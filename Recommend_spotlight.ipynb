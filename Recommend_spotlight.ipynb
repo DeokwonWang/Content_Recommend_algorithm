{
  "nbformat": 4,
  "nbformat_minor": 0,
  "metadata": {
    "colab": {
      "name": "Recommend_spotlight.ipynb",
      "provenance": [],
      "authorship_tag": "ABX9TyP6xx/vRRKIcPhflSoX7mrW",
      "include_colab_link": true
    },
    "kernelspec": {
      "name": "python3",
      "display_name": "Python 3"
    },
    "language_info": {
      "name": "python"
    },
    "accelerator": "GPU"
  },
  "cells": [
    {
      "cell_type": "markdown",
      "metadata": {
        "id": "view-in-github",
        "colab_type": "text"
      },
      "source": [
        "<a href=\"https://colab.research.google.com/github/DeokwonWang/Content_Recommend_algorithm/blob/main/Recommend_spotlight.ipynb\" target=\"_parent\"><img src=\"https://colab.research.google.com/assets/colab-badge.svg\" alt=\"Open In Colab\"/></a>"
      ]
    },
    {
      "cell_type": "code",
      "metadata": {
        "id": "gAO9FY_Nq6XJ",
        "colab": {
          "base_uri": "https://localhost:8080/"
        },
        "outputId": "d9f9e790-abfd-4ca3-e85a-04e9f3d55bc5"
      },
      "source": [
        "from google.colab import drive\n",
        "drive.mount('/content/drive')"
      ],
      "execution_count": 1,
      "outputs": [
        {
          "output_type": "stream",
          "text": [
            "Mounted at /content/drive\n"
          ],
          "name": "stdout"
        }
      ]
    },
    {
      "cell_type": "markdown",
      "metadata": {
        "id": "5y_o0SxVFRYO"
      },
      "source": [
        "# 설치\n",
        "\n",
        "공식 문서 페이지에는 Conda로 Spotlight를 설치하기 위한 명령이 제공되지만 다음 명령을 사용하여 Git에서 직접 라이브러리를 설치하는 것이 좋습니다. 특히 Python 3.7이 있는 경우 더욱 그렇습니다."
      ]
    },
    {
      "cell_type": "code",
      "metadata": {
        "colab": {
          "base_uri": "https://localhost:8080/"
        },
        "id": "I-jn5vGLvPkH",
        "outputId": "c360256a-dbc6-45d9-b538-5c7e0e8f3228"
      },
      "source": [
        "!pip install git+https://github.com/maciejkula/spotlight.git #egg=spotlight "
      ],
      "execution_count": 2,
      "outputs": [
        {
          "output_type": "stream",
          "text": [
            "Collecting git+https://github.com/maciejkula/spotlight.git\n",
            "  Cloning https://github.com/maciejkula/spotlight.git to /tmp/pip-req-build-j4cu79at\n",
            "  Running command git clone -q https://github.com/maciejkula/spotlight.git /tmp/pip-req-build-j4cu79at\n",
            "Requirement already satisfied: torch>=0.4.0 in /usr/local/lib/python3.7/dist-packages (from spotlight==0.1.6) (1.9.0+cu102)\n",
            "Requirement already satisfied: typing-extensions in /usr/local/lib/python3.7/dist-packages (from torch>=0.4.0->spotlight==0.1.6) (3.7.4.3)\n",
            "Building wheels for collected packages: spotlight\n",
            "  Building wheel for spotlight (setup.py) ... \u001b[?25l\u001b[?25hdone\n",
            "  Created wheel for spotlight: filename=spotlight-0.1.6-cp37-none-any.whl size=33933 sha256=dd1cb84afe771fd42d3cba3e3777532f5f4a051380b40fff08bc64c2f8ef8128\n",
            "  Stored in directory: /tmp/pip-ephem-wheel-cache-0jxq5cwm/wheels/0a/33/c8/e8510ea648aaacf6031e128dfa92bcd3750f02db2aaf0922fe\n",
            "Successfully built spotlight\n",
            "Installing collected packages: spotlight\n",
            "Successfully installed spotlight-0.1.6\n"
          ],
          "name": "stdout"
        }
      ]
    },
    {
      "cell_type": "markdown",
      "metadata": {
        "id": "BIZohUdoFWqV"
      },
      "source": [
        "# 영화 추천 시스템 구축\n",
        "\n",
        "이 실제 사례에서 저는 Kaggle에서 제공되는 The Movies Dataset의 데이터를 사용하기로 결정했습니다. 이 데이터 세트에는 27만 명의 사용자가 45,000편의 영화에 대해 2,600만 건의 시청률을 기록한 파일이 포함되어 있습니다. 이 예에서는 데이터셋의 ratings_small 파일을 사용했는데, 여기에는 사용자 700명의 rating_small 등급 하위 집합이 포함되어 있습니다. 전체 데이터셋은 교육하는 데 훨씬 더 오랜 시간이 걸리지만 강력한 GPU가 장착된 시스템이 있는 경우 이 데이터셋을 사용해 볼 수 있습니다. 이 실제 예제의 전체 코드는 GitHub에서 확인할 수 있습니다.\n"
      ]
    },
    {
      "cell_type": "markdown",
      "metadata": {
        "id": "3KnMU9J6Fdm3"
      },
      "source": [
        "# 기본 라이브러리 가져오기\n",
        "\n",
        "아래 코드에서는 대부분의 데이터 과학 프로젝트에서 사용하는 기본 라이브러리를 간단하게 가져왔습니다."
      ]
    },
    {
      "cell_type": "code",
      "metadata": {
        "id": "fm2K63QIAKch"
      },
      "source": [
        "import numpy as np\n",
        "import pandas as pd\n",
        "import matplotlib.pyplot as plt\n",
        "%matplotlib inline"
      ],
      "execution_count": 3,
      "outputs": []
    },
    {
      "cell_type": "markdown",
      "metadata": {
        "id": "zJJwyibWFl3Y"
      },
      "source": [
        "# 데이터 읽기\n",
        "\n",
        "아래 코드에서는 세 가지 데이터 파일을 읽습니다.\n",
        "\n",
        "\n",
        "\n",
        "*   ratings_small.csv — 다양한 사용자와 영화에 대한 등급 데이터가 포함되어 있습니다.\n",
        "*   movies_movies.csv — 데이터 세트에 포함된 45,000편의 모든 영화에 대한 메타데이터가 포함되어 있습니다.\n",
        "*   links.csv — 이 데이터를 동영상 메타데이터와 결합할 때 각 동영상을 조회하는 데 사용할 수 있는 ID를 포함합니다.\n",
        "\n",
        "\n",
        "\n",
        "\n",
        "\n",
        "\n",
        "\n"
      ]
    },
    {
      "cell_type": "code",
      "metadata": {
        "colab": {
          "base_uri": "https://localhost:8080/"
        },
        "id": "2YWII7q1AM7O",
        "outputId": "af9b3dd6-0bfb-4699-a0a6-f265f97c1ee9"
      },
      "source": [
        "ratings_data = pd.read_csv('/content/drive/MyDrive/moviedata/ratings_small.csv')\n",
        "metadata = pd.read_csv('/content/drive/MyDrive/moviedata/movies_metadata.csv')\n",
        "links_data = pd.read_csv('/content/drive/MyDrive/moviedata/links.csv')"
      ],
      "execution_count": 5,
      "outputs": [
        {
          "output_type": "stream",
          "text": [
            "/usr/local/lib/python3.7/dist-packages/IPython/core/interactiveshell.py:2718: DtypeWarning: Columns (10) have mixed types.Specify dtype option on import or set low_memory=False.\n",
            "  interactivity=interactivity, compiler=compiler, result=result)\n"
          ],
          "name": "stderr"
        }
      ]
    },
    {
      "cell_type": "code",
      "metadata": {
        "colab": {
          "base_uri": "https://localhost:8080/"
        },
        "id": "h3DEMh4PAq8H",
        "outputId": "056cb066-f467-4e37-d395-01b6a69852f8"
      },
      "source": [
        "ratings_data.info()"
      ],
      "execution_count": 11,
      "outputs": [
        {
          "output_type": "stream",
          "text": [
            "<class 'pandas.core.frame.DataFrame'>\n",
            "RangeIndex: 100004 entries, 0 to 100003\n",
            "Data columns (total 4 columns):\n",
            " #   Column     Non-Null Count   Dtype  \n",
            "---  ------     --------------   -----  \n",
            " 0   userId     100004 non-null  int64  \n",
            " 1   movieId    100004 non-null  int64  \n",
            " 2   rating     100004 non-null  float64\n",
            " 3   timestamp  100004 non-null  int64  \n",
            "dtypes: float64(1), int64(3)\n",
            "memory usage: 3.1 MB\n"
          ],
          "name": "stdout"
        }
      ]
    },
    {
      "cell_type": "code",
      "metadata": {
        "colab": {
          "base_uri": "https://localhost:8080/"
        },
        "id": "WQZRGb4tBWAH",
        "outputId": "68155b93-fe3d-4681-fa5d-1f4fef21e137"
      },
      "source": [
        "metadata.info()"
      ],
      "execution_count": 12,
      "outputs": [
        {
          "output_type": "stream",
          "text": [
            "<class 'pandas.core.frame.DataFrame'>\n",
            "RangeIndex: 45466 entries, 0 to 45465\n",
            "Data columns (total 24 columns):\n",
            " #   Column                 Non-Null Count  Dtype  \n",
            "---  ------                 --------------  -----  \n",
            " 0   adult                  45466 non-null  object \n",
            " 1   belongs_to_collection  4494 non-null   object \n",
            " 2   budget                 45466 non-null  object \n",
            " 3   genres                 45466 non-null  object \n",
            " 4   homepage               7782 non-null   object \n",
            " 5   id                     45466 non-null  object \n",
            " 6   imdb_id                45449 non-null  object \n",
            " 7   original_language      45455 non-null  object \n",
            " 8   original_title         45466 non-null  object \n",
            " 9   overview               44512 non-null  object \n",
            " 10  popularity             45461 non-null  object \n",
            " 11  poster_path            45080 non-null  object \n",
            " 12  production_companies   45463 non-null  object \n",
            " 13  production_countries   45463 non-null  object \n",
            " 14  release_date           45379 non-null  object \n",
            " 15  revenue                45460 non-null  float64\n",
            " 16  runtime                45203 non-null  float64\n",
            " 17  spoken_languages       45460 non-null  object \n",
            " 18  status                 45379 non-null  object \n",
            " 19  tagline                20412 non-null  object \n",
            " 20  title                  45460 non-null  object \n",
            " 21  video                  45460 non-null  object \n",
            " 22  vote_average           45460 non-null  float64\n",
            " 23  vote_count             45460 non-null  float64\n",
            "dtypes: float64(4), object(20)\n",
            "memory usage: 8.3+ MB\n"
          ],
          "name": "stdout"
        }
      ]
    },
    {
      "cell_type": "code",
      "metadata": {
        "colab": {
          "base_uri": "https://localhost:8080/"
        },
        "id": "EkhqYYuKBYc3",
        "outputId": "6e667b46-a902-4fab-a698-ba7130cab80c"
      },
      "source": [
        "links_data.info()"
      ],
      "execution_count": 13,
      "outputs": [
        {
          "output_type": "stream",
          "text": [
            "<class 'pandas.core.frame.DataFrame'>\n",
            "RangeIndex: 45843 entries, 0 to 45842\n",
            "Data columns (total 3 columns):\n",
            " #   Column   Non-Null Count  Dtype  \n",
            "---  ------   --------------  -----  \n",
            " 0   movieId  45843 non-null  int64  \n",
            " 1   imdbId   45843 non-null  int64  \n",
            " 2   tmdbId   45624 non-null  float64\n",
            "dtypes: float64(1), int64(2)\n",
            "memory usage: 1.0 MB\n"
          ],
          "name": "stdout"
        }
      ]
    },
    {
      "cell_type": "markdown",
      "metadata": {
        "id": "wxU1dyBOBdFy"
      },
      "source": [
        "다음 매핑 및 열 관계에 유의하십시오.\n",
        "\n",
        "1. links_data의 movieId 열은 ratings_data의 movieId 열에 매핑됩니다.\n",
        "2. links_data의 imdbId 열은 메타데이터의 imdb_id 열에 매핑됩니다."
      ]
    },
    {
      "cell_type": "markdown",
      "metadata": {
        "id": "lP5Fg1MWGWyP"
      },
      "source": [
        "# 메타데이터 전처리\n",
        "\n",
        "이 다음 섹션에서는 아래 나열된 단계를 사용하여 데이터를 사전 처리했습니다. 자세한 내용은 GitHub에 대한 내 주피터 노트북과 Kaggle에 대한 데이터셋 설명을 참조하십시오.\n",
        "\n",
        "1. imdb_id가 null인 메타데이터 데이터 프레임에서 행을 제거했습니다.\n",
        "2. 람다 함수를 적용하여 메타데이터에서 imdb_id 열의 각 요소를 int로 변환합니다.\n",
        "3. imbd_id 및 imdbId 열의 데이터 프레임을 각각 결합하여 메타데이터와 links_data를 병합합니다."
      ]
    },
    {
      "cell_type": "code",
      "metadata": {
        "id": "EhZxbtvnB3E2"
      },
      "source": [
        "metadata = metadata[metadata['imdb_id'].notna()]\n",
        "\n",
        "def remove_characters(string):\n",
        "    \n",
        "    return ''.join(filter(str.isdigit, string))\n",
        "    \n",
        "metadata['imdb_id'] = metadata['imdb_id'].apply(lambda x: int(remove_characters(str(x))))\n",
        "full_metadata = pd.merge(metadata, links_data, left_on='imdb_id', right_on='imdbId')"
      ],
      "execution_count": 14,
      "outputs": []
    },
    {
      "cell_type": "markdown",
      "metadata": {
        "id": "76stjtDSGylh"
      },
      "source": [
        "위의 코드를 실행하면 동영상 ID만으로 동영상의 메타데이터를 검색할 수 있는 단일 데이터 프레임이 생성됩니다."
      ]
    },
    {
      "cell_type": "markdown",
      "metadata": {
        "id": "unFwVKEZHIBf"
      },
      "source": [
        "# Spotlight 상호 작용 데이터 세트 생성\n",
        "\n",
        "Surprise와 마찬가지로 Spotlight에도 데이터 모델을 교육하기 위해 사용해야 하는 데이터셋 개체가 있습니다. 아래 코드에서는 다음 매개 변수를 제공하여 Interactions 개체를 생성했는데, 이 매개 변수는 모두 Numpy 어레이여야 합니다.\n",
        "\n",
        "\n",
        "\n",
        "*   user_ids — 등급 데이터의 사용자 ID\n",
        "*   Item_ids — 등급 데이터의 항목 ID\n",
        "*   ratings — 등급 데이터에서 해당 등급.\n",
        "*   timestamps(선택 사항) - 각 사용자/항목 상호 작용에 대한 타임스탬프입니다.\n",
        "\n",
        "\n",
        "\n",
        "\n",
        "\n"
      ]
    },
    {
      "cell_type": "code",
      "metadata": {
        "id": "Zd-SPi5nC5ib"
      },
      "source": [
        "from spotlight.interactions import Interactions\n",
        "\n",
        "dataset = Interactions(user_ids=ratings_data['userId'].values,\n",
        "                       item_ids=ratings_data['movieId'].values,\n",
        "                       ratings=ratings_data['rating'].values,\n",
        "                       timestamps=ratings_data['timestamp'].values)"
      ],
      "execution_count": 15,
      "outputs": []
    },
    {
      "cell_type": "markdown",
      "metadata": {
        "id": "zorW2hBhHhVB"
      },
      "source": [
        "# 매트릭스 인수 분해 모델 교육\n",
        "\n",
        "이제 데이터 세트가 생성되었으므로 아래 나온 것처럼 Spotlight의 명시적 요인화 모델 모듈을 사용하여 딥러닝 기반 매트릭스 인수화 모델을 교육할 수 있습니다."
      ]
    },
    {
      "cell_type": "code",
      "metadata": {
        "colab": {
          "base_uri": "https://localhost:8080/"
        },
        "id": "0f1uYDoIDAr2",
        "outputId": "9e07c5d2-2ccc-4019-d41f-1ae27cf743ee"
      },
      "source": [
        "from spotlight.cross_validation import random_train_test_split\n",
        "from spotlight.evaluation import rmse_score\n",
        "from spotlight.factorization.explicit import ExplicitFactorizationModel\n",
        "train, test = random_train_test_split(dataset)\n",
        "\n",
        "model = ExplicitFactorizationModel(n_iter=10)\n",
        "model.fit(train, verbose=True)\n",
        "rmse = rmse_score(model, test)\n",
        "print('RMSE = ', rmse)"
      ],
      "execution_count": 16,
      "outputs": [
        {
          "output_type": "stream",
          "text": [
            "Epoch 0: loss 4.41037665080326\n",
            "Epoch 1: loss 0.850391627648413\n",
            "Epoch 2: loss 0.5401309328729595\n",
            "Epoch 3: loss 0.38908267848898637\n",
            "Epoch 4: loss 0.31060360180538243\n",
            "Epoch 5: loss 0.2702022812253189\n",
            "Epoch 6: loss 0.24821259432646425\n",
            "Epoch 7: loss 0.2361675441663728\n",
            "Epoch 8: loss 0.22643006715580907\n",
            "Epoch 9: loss 0.21836985694950678\n",
            "RMSE =  1.115788442159355\n"
          ],
          "name": "stdout"
        }
      ]
    },
    {
      "cell_type": "markdown",
      "metadata": {
        "id": "hOM0tF3dHrlQ"
      },
      "source": [
        "# 인수분해 모델을 사용하여 동영상 권장 사항 생성\n",
        "\n",
        "이제 매트릭스 인수 분해 모델을 교육했으므로 이 모델을 사용하여 권장 동영상을 생성할 수 있습니다. 예측 방법은 단일 사용자 ID 또는 일련의 사용자 ID를 사용하고 데이터 세트의 각 동영상 항목에 대해 예측 등급 또는 \"점수\"를 생성합니다."
      ]
    },
    {
      "cell_type": "code",
      "metadata": {
        "colab": {
          "base_uri": "https://localhost:8080/"
        },
        "id": "8KzBrsCpDFpZ",
        "outputId": "c7cd3040-8969-424d-8039-019383daef3e"
      },
      "source": [
        "model.predict(user_ids=1)"
      ],
      "execution_count": 17,
      "outputs": [
        {
          "output_type": "execute_result",
          "data": {
            "text/plain": [
              "array([0.39230758, 1.4769994 , 1.8814254 , ..., 0.33759582, 0.3539653 ,\n",
              "       2.0365305 ], dtype=float32)"
            ]
          },
          "metadata": {
            "tags": []
          },
          "execution_count": 17
        }
      ]
    },
    {
      "cell_type": "markdown",
      "metadata": {
        "id": "qNLx99MaHzF6"
      },
      "source": [
        "예측 방법의 출력은 각각 데이터셋의 항목(이 경우 동영상)에 대한 예측 등급 또는 점수에 해당하는 값의 배열입니다."
      ]
    },
    {
      "cell_type": "markdown",
      "metadata": {
        "id": "FHykWDkQH-fS"
      },
      "source": [
        "예측 방법의 출력을 실제 영화 추천으로 변환하기 위해 아래에 몇 가지 유틸리티 기능을 만들었습니다."
      ]
    },
    {
      "cell_type": "code",
      "metadata": {
        "id": "qONidTwLH17p"
      },
      "source": [
        "\"\"\"\n",
        "Utility functions for generating movie recommendations using matrix factorization models\n",
        "\"\"\"\n",
        "\n",
        "def get_metadata(movie_id, metadata):\n",
        "    \"\"\"\n",
        "    Retrieves the metadata for a movie given the movie ID\n",
        "    \"\"\"\n",
        "    movie_data = metadata[metadata['movieId'] == movie_id]\n",
        "    return movie_data[['original_title', 'release_date', 'genres']].to_dict(orient='records')\n",
        "\n",
        "def recommend_movies(user_id, metadata, model, n_movies=5):\n",
        "    \"\"\"\n",
        "    Recommends movies for user using a matrix factorization model.\n",
        "    \"\"\" \n",
        "    pred = model.predict(user_ids=user_id)\n",
        "    indices = np.argpartition(pred, -n_movies)[-n_movies:]\n",
        "    best_movie_ids = indices[np.argsort(pred[indices])]\n",
        "    \n",
        "    return [get_metadata(movie_id + 1, metadata) for movie_id in best_movie_ids]"
      ],
      "execution_count": 18,
      "outputs": []
    },
    {
      "cell_type": "markdown",
      "metadata": {
        "id": "5wJ_zUQ6IDuH"
      },
      "source": [
        "아래와 같이 recommend_movies 기능을 호출하여 특정 ID의 사용자에게 권장되는 동영상을 생성할 수 있습니다."
      ]
    },
    {
      "cell_type": "code",
      "metadata": {
        "colab": {
          "base_uri": "https://localhost:8080/"
        },
        "id": "HieMeQZgILoh",
        "outputId": "df16b52e-e41a-4d2a-beb5-c5239ae90dd6"
      },
      "source": [
        "recommend_movies(1, full_metadata, model)"
      ],
      "execution_count": 19,
      "outputs": [
        {
          "output_type": "execute_result",
          "data": {
            "text/plain": [
              "[[{'genres': \"[{'id': 18, 'name': 'Drama'}, {'id': 10749, 'name': 'Romance'}]\",\n",
              "   'original_title': \"St. Elmo's Fire\",\n",
              "   'release_date': '1985-06-20'}],\n",
              " [{'genres': \"[{'id': 80, 'name': 'Crime'}, {'id': 18, 'name': 'Drama'}]\",\n",
              "   'original_title': 'The Cook, the Thief, His Wife & Her Lover',\n",
              "   'release_date': '1989-09-10'}],\n",
              " [{'genres': \"[{'id': 27, 'name': 'Horror'}, {'id': 878, 'name': 'Science Fiction'}]\",\n",
              "   'original_title': 'Bride of Frankenstein',\n",
              "   'release_date': '1935-04-21'}],\n",
              " [{'genres': \"[{'id': 35, 'name': 'Comedy'}, {'id': 18, 'name': 'Drama'}, {'id': 10749, 'name': 'Romance'}]\",\n",
              "   'original_title': '喜宴',\n",
              "   'release_date': '1993-08-04'}],\n",
              " [{'genres': \"[{'id': 10402, 'name': 'Music'}, {'id': 18, 'name': 'Drama'}]\",\n",
              "   'original_title': 'Swing Kids',\n",
              "   'release_date': '1993-03-05'}]]"
            ]
          },
          "metadata": {
            "tags": []
          },
          "execution_count": 19
        }
      ]
    },
    {
      "cell_type": "markdown",
      "metadata": {
        "id": "0DMOgY1UIOhP"
      },
      "source": [
        "이 기능을 호출하면 각 권장 동영상의 메타데이터가 포함된 사전 목록이 포함된 다음 출력이 생성됩니다."
      ]
    }
  ]
}