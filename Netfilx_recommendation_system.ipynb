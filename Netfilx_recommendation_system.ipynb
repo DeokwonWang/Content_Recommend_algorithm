{
  "nbformat": 4,
  "nbformat_minor": 0,
  "metadata": {
    "colab": {
      "name": "Netfilx_recommendation_system.ipynb",
      "provenance": [],
      "authorship_tag": "ABX9TyORJaEt9stSxS0+pZkC7859",
      "include_colab_link": true
    },
    "kernelspec": {
      "name": "python3",
      "display_name": "Python 3"
    },
    "language_info": {
      "name": "python"
    }
  },
  "cells": [
    {
      "cell_type": "markdown",
      "metadata": {
        "id": "view-in-github",
        "colab_type": "text"
      },
      "source": [
        "<a href=\"https://colab.research.google.com/github/DeokwonWang/Content_Recommend_algorithm/blob/main/Netfilx_recommendation_system.ipynb\" target=\"_parent\"><img src=\"https://colab.research.google.com/assets/colab-badge.svg\" alt=\"Open In Colab\"/></a>"
      ]
    },
    {
      "cell_type": "markdown",
      "metadata": {
        "id": "7fZptqqhLqr4"
      },
      "source": [
        "**NLP 및 SIGMOID를 사용한 Netflix 영화 / 시리즈 추천 시스템**\n",
        "\n",
        "이 프로젝트에서 저는 넷플릭스와 같은 추천 시스템을 구축하려고했습니다.\n",
        "\n",
        "경험을 개인화하려면 이미 평가 한 프로그램 / 영화에 따라 별도의 추천 기능을 추가 할 수 있도록 사용자 데이터와 사용자 ID가 필요합니다.\n",
        "\n",
        "우리가 제공하는 추천은 영화 장르의 유사성을 기반으로 할 것입니다. 영화의 출연진이나 영화 감독을 기반으로 할 수도 있습니다.\n",
        "\n",
        "{{국가는 어느 국가에서 가져온 콘텐츠인지 명시}}"
      ]
    },
    {
      "cell_type": "code",
      "metadata": {
        "colab": {
          "base_uri": "https://localhost:8080/"
        },
        "id": "9CW4RxCpL9Gt",
        "outputId": "1ad269df-6f6a-45eb-d456-61ceff62a9f8"
      },
      "source": [
        "from google.colab import drive\n",
        "drive.mount('/content/drive')"
      ],
      "execution_count": null,
      "outputs": [
        {
          "output_type": "stream",
          "text": [
            "Drive already mounted at /content/drive; to attempt to forcibly remount, call drive.mount(\"/content/drive\", force_remount=True).\n"
          ],
          "name": "stdout"
        }
      ]
    },
    {
      "cell_type": "code",
      "metadata": {
        "id": "s9wO-npFLqN9"
      },
      "source": [
        "import pandas as pd\n",
        "import numpy as np"
      ],
      "execution_count": null,
      "outputs": []
    },
    {
      "cell_type": "code",
      "metadata": {
        "colab": {
          "base_uri": "https://localhost:8080/",
          "height": 296
        },
        "id": "BApkWmvyMWuG",
        "outputId": "86057840-8479-473d-b15d-e1e43b68676d"
      },
      "source": [
        "# 모든 데이터 프레임을 읽고 복제\n",
        "df=pd.read_excel(r\"/content/drive/MyDrive/content_recommendation_data/netflix_titles.xlsx\")\n",
        "df1=df\n",
        "df2=df\n",
        "df3=df\n",
        "df4=df\n",
        "df5=df\n",
        "df6=df\n",
        "df7=df\n",
        "df8=df\n",
        "df9=df\n",
        "df10=df\n",
        "df11=df\n",
        "df.head(2)"
      ],
      "execution_count": null,
      "outputs": [
        {
          "output_type": "execute_result",
          "data": {
            "text/html": [
              "<div>\n",
              "<style scoped>\n",
              "    .dataframe tbody tr th:only-of-type {\n",
              "        vertical-align: middle;\n",
              "    }\n",
              "\n",
              "    .dataframe tbody tr th {\n",
              "        vertical-align: top;\n",
              "    }\n",
              "\n",
              "    .dataframe thead th {\n",
              "        text-align: right;\n",
              "    }\n",
              "</style>\n",
              "<table border=\"1\" class=\"dataframe\">\n",
              "  <thead>\n",
              "    <tr style=\"text-align: right;\">\n",
              "      <th></th>\n",
              "      <th>title</th>\n",
              "      <th>type</th>\n",
              "      <th>director</th>\n",
              "      <th>cast</th>\n",
              "      <th>country</th>\n",
              "      <th>date_added</th>\n",
              "      <th>release_year</th>\n",
              "      <th>rating</th>\n",
              "      <th>duration</th>\n",
              "      <th>listed_in</th>\n",
              "      <th>description</th>\n",
              "    </tr>\n",
              "  </thead>\n",
              "  <tbody>\n",
              "    <tr>\n",
              "      <th>0</th>\n",
              "      <td>Norm of the North: King Sized Adventure</td>\n",
              "      <td>Movie</td>\n",
              "      <td>Richard Finn, Tim Maltby</td>\n",
              "      <td>Alan Marriott, Andrew Toth, Brian Dobson, Cole...</td>\n",
              "      <td>United States, India, South Korea, China</td>\n",
              "      <td>2019-09-09 00:00:00</td>\n",
              "      <td>2019</td>\n",
              "      <td>TV-PG</td>\n",
              "      <td>90 min</td>\n",
              "      <td>Children &amp; Family Movies, Comedies</td>\n",
              "      <td>Before planning an awesome wedding for his gra...</td>\n",
              "    </tr>\n",
              "    <tr>\n",
              "      <th>1</th>\n",
              "      <td>Jandino: Whatever it Takes</td>\n",
              "      <td>Movie</td>\n",
              "      <td>NaN</td>\n",
              "      <td>Jandino Asporaat</td>\n",
              "      <td>United Kingdom</td>\n",
              "      <td>2016-09-09 00:00:00</td>\n",
              "      <td>2016</td>\n",
              "      <td>TV-MA</td>\n",
              "      <td>94 min</td>\n",
              "      <td>Stand-Up Comedy</td>\n",
              "      <td>Jandino Asporaat riffs on the challenges of ra...</td>\n",
              "    </tr>\n",
              "  </tbody>\n",
              "</table>\n",
              "</div>"
            ],
            "text/plain": [
              "                                     title  ...                                        description\n",
              "0  Norm of the North: King Sized Adventure  ...  Before planning an awesome wedding for his gra...\n",
              "1               Jandino: Whatever it Takes  ...  Jandino Asporaat riffs on the challenges of ra...\n",
              "\n",
              "[2 rows x 11 columns]"
            ]
          },
          "metadata": {
            "tags": []
          },
          "execution_count": 44
        }
      ]
    },
    {
      "cell_type": "code",
      "metadata": {
        "colab": {
          "base_uri": "https://localhost:8080/"
        },
        "id": "RSbUmqohMiA_",
        "outputId": "74ffd8e5-47a5-4773-aa40-19deec4d795e"
      },
      "source": [
        "#사용자로부터 입력 받기\n",
        "k=input(\"Movie/show name from Netflix: \")"
      ],
      "execution_count": null,
      "outputs": [
        {
          "output_type": "stream",
          "text": [
            "Movie/show name from Netflix: Good People\n"
          ],
          "name": "stdout"
        }
      ]
    },
    {
      "cell_type": "markdown",
      "metadata": {
        "id": "8HkTQHdlMtlc"
      },
      "source": [
        "먼저 장르별로 영화를 배포하겠습니다.\n",
        "\n",
        "**여기서 우리는 NLP를 사용하여 유형의 문장이 아닌 벡터를 만듭니다.**"
      ]
    },
    {
      "cell_type": "code",
      "metadata": {
        "id": "eUhENSJwM1kw"
      },
      "source": [
        "#nan이 NLP를 방해하지 않도록 nan 값을 공백으로 대체\n",
        "df = df.replace(np.nan, '', regex=True)"
      ],
      "execution_count": null,
      "outputs": []
    },
    {
      "cell_type": "code",
      "metadata": {
        "colab": {
          "base_uri": "https://localhost:8080/",
          "height": 1000
        },
        "id": "yoCBBZDSNEC_",
        "outputId": "b2ed5e93-81ab-448f-871a-617afb69e811"
      },
      "source": [
        "df.head(20)"
      ],
      "execution_count": null,
      "outputs": [
        {
          "output_type": "execute_result",
          "data": {
            "text/html": [
              "<div>\n",
              "<style scoped>\n",
              "    .dataframe tbody tr th:only-of-type {\n",
              "        vertical-align: middle;\n",
              "    }\n",
              "\n",
              "    .dataframe tbody tr th {\n",
              "        vertical-align: top;\n",
              "    }\n",
              "\n",
              "    .dataframe thead th {\n",
              "        text-align: right;\n",
              "    }\n",
              "</style>\n",
              "<table border=\"1\" class=\"dataframe\">\n",
              "  <thead>\n",
              "    <tr style=\"text-align: right;\">\n",
              "      <th></th>\n",
              "      <th>title</th>\n",
              "      <th>type</th>\n",
              "      <th>director</th>\n",
              "      <th>cast</th>\n",
              "      <th>country</th>\n",
              "      <th>date_added</th>\n",
              "      <th>release_year</th>\n",
              "      <th>rating</th>\n",
              "      <th>duration</th>\n",
              "      <th>listed_in</th>\n",
              "      <th>description</th>\n",
              "    </tr>\n",
              "  </thead>\n",
              "  <tbody>\n",
              "    <tr>\n",
              "      <th>0</th>\n",
              "      <td>Norm of the North: King Sized Adventure</td>\n",
              "      <td>Movie</td>\n",
              "      <td>Richard Finn, Tim Maltby</td>\n",
              "      <td>Alan Marriott, Andrew Toth, Brian Dobson, Cole...</td>\n",
              "      <td>United States, India, South Korea, China</td>\n",
              "      <td>2019-09-09 00:00:00</td>\n",
              "      <td>2019</td>\n",
              "      <td>TV-PG</td>\n",
              "      <td>90 min</td>\n",
              "      <td>Children &amp; Family Movies, Comedies</td>\n",
              "      <td>Before planning an awesome wedding for his gra...</td>\n",
              "    </tr>\n",
              "    <tr>\n",
              "      <th>1</th>\n",
              "      <td>Jandino: Whatever it Takes</td>\n",
              "      <td>Movie</td>\n",
              "      <td></td>\n",
              "      <td>Jandino Asporaat</td>\n",
              "      <td>United Kingdom</td>\n",
              "      <td>2016-09-09 00:00:00</td>\n",
              "      <td>2016</td>\n",
              "      <td>TV-MA</td>\n",
              "      <td>94 min</td>\n",
              "      <td>Stand-Up Comedy</td>\n",
              "      <td>Jandino Asporaat riffs on the challenges of ra...</td>\n",
              "    </tr>\n",
              "    <tr>\n",
              "      <th>2</th>\n",
              "      <td>Transformers Prime</td>\n",
              "      <td>TV Show</td>\n",
              "      <td></td>\n",
              "      <td>Peter Cullen, Sumalee Montano, Frank Welker, J...</td>\n",
              "      <td>United States</td>\n",
              "      <td>2018-09-08 00:00:00</td>\n",
              "      <td>2013</td>\n",
              "      <td>TV-Y7-FV</td>\n",
              "      <td>1 Season</td>\n",
              "      <td>Kids' TV</td>\n",
              "      <td>With the help of three human allies, the Autob...</td>\n",
              "    </tr>\n",
              "    <tr>\n",
              "      <th>3</th>\n",
              "      <td>Transformers: Robots in Disguise</td>\n",
              "      <td>TV Show</td>\n",
              "      <td></td>\n",
              "      <td>Will Friedle, Darren Criss, Constance Zimmer, ...</td>\n",
              "      <td>United States</td>\n",
              "      <td>2018-09-08 00:00:00</td>\n",
              "      <td>2016</td>\n",
              "      <td>TV-Y7</td>\n",
              "      <td>1 Season</td>\n",
              "      <td>Kids' TV</td>\n",
              "      <td>When a prison ship crash unleashes hundreds of...</td>\n",
              "    </tr>\n",
              "    <tr>\n",
              "      <th>4</th>\n",
              "      <td>#realityhigh</td>\n",
              "      <td>Movie</td>\n",
              "      <td>Fernando Lebrija</td>\n",
              "      <td>Nesta Cooper, Kate Walsh, John Michael Higgins...</td>\n",
              "      <td>United States</td>\n",
              "      <td>2017-09-08 00:00:00</td>\n",
              "      <td>2017</td>\n",
              "      <td>TV-14</td>\n",
              "      <td>99 min</td>\n",
              "      <td>Comedies</td>\n",
              "      <td>When nerdy high schooler Dani finally attracts...</td>\n",
              "    </tr>\n",
              "    <tr>\n",
              "      <th>5</th>\n",
              "      <td>Apaches</td>\n",
              "      <td>TV Show</td>\n",
              "      <td></td>\n",
              "      <td>Alberto Ammann, Eloy AzorÃ­n, VerÃ³nica Echegu...</td>\n",
              "      <td>Spain</td>\n",
              "      <td>2017-09-08 00:00:00</td>\n",
              "      <td>2016</td>\n",
              "      <td>TV-MA</td>\n",
              "      <td>1 Season</td>\n",
              "      <td>Crime TV Shows, International TV Shows, Spanis...</td>\n",
              "      <td>A young journalist is forced into a life of cr...</td>\n",
              "    </tr>\n",
              "    <tr>\n",
              "      <th>6</th>\n",
              "      <td>Automata</td>\n",
              "      <td>Movie</td>\n",
              "      <td>Gabe IbÃ¡Ã±ez</td>\n",
              "      <td>Antonio Banderas, Dylan McDermott, Melanie Gri...</td>\n",
              "      <td>Bulgaria, United States, Spain, Canada</td>\n",
              "      <td>2017-09-08 00:00:00</td>\n",
              "      <td>2014</td>\n",
              "      <td>R</td>\n",
              "      <td>110 min</td>\n",
              "      <td>International Movies, Sci-Fi &amp; Fantasy, Thrillers</td>\n",
              "      <td>In a dystopian future, an insurance adjuster f...</td>\n",
              "    </tr>\n",
              "    <tr>\n",
              "      <th>7</th>\n",
              "      <td>Fabrizio Copano: Solo pienso en mi</td>\n",
              "      <td>Movie</td>\n",
              "      <td>Rodrigo Toro, Francisco Schultz</td>\n",
              "      <td>Fabrizio Copano</td>\n",
              "      <td>Chile</td>\n",
              "      <td>2017-09-08 00:00:00</td>\n",
              "      <td>2017</td>\n",
              "      <td>TV-MA</td>\n",
              "      <td>60 min</td>\n",
              "      <td>Stand-Up Comedy</td>\n",
              "      <td>Fabrizio Copano takes audience participation t...</td>\n",
              "    </tr>\n",
              "    <tr>\n",
              "      <th>8</th>\n",
              "      <td>Fire Chasers</td>\n",
              "      <td>TV Show</td>\n",
              "      <td></td>\n",
              "      <td></td>\n",
              "      <td>United States</td>\n",
              "      <td>2017-09-08 00:00:00</td>\n",
              "      <td>2017</td>\n",
              "      <td>TV-MA</td>\n",
              "      <td>1 Season</td>\n",
              "      <td>Docuseries, Science &amp; Nature TV</td>\n",
              "      <td>As California's 2016 fire season rages, brave ...</td>\n",
              "    </tr>\n",
              "    <tr>\n",
              "      <th>9</th>\n",
              "      <td>Good People</td>\n",
              "      <td>Movie</td>\n",
              "      <td>Henrik Ruben Genz</td>\n",
              "      <td>James Franco, Kate Hudson, Tom Wilkinson, Omar...</td>\n",
              "      <td>United States, United Kingdom, Denmark, Sweden</td>\n",
              "      <td>2017-09-08 00:00:00</td>\n",
              "      <td>2014</td>\n",
              "      <td>R</td>\n",
              "      <td>90 min</td>\n",
              "      <td>Action &amp; Adventure, Thrillers</td>\n",
              "      <td>A struggling couple can't believe their luck w...</td>\n",
              "    </tr>\n",
              "    <tr>\n",
              "      <th>10</th>\n",
              "      <td>JoaquÃ­n Reyes: Una y no mÃ¡s</td>\n",
              "      <td>Movie</td>\n",
              "      <td>JosÃ© Miguel Contreras</td>\n",
              "      <td>JoaquÃ­n Reyes</td>\n",
              "      <td></td>\n",
              "      <td>2017-09-08 00:00:00</td>\n",
              "      <td>2017</td>\n",
              "      <td>TV-MA</td>\n",
              "      <td>78 min</td>\n",
              "      <td>Stand-Up Comedy</td>\n",
              "      <td>Comedian and celebrity impersonator JoaquÃ­n R...</td>\n",
              "    </tr>\n",
              "    <tr>\n",
              "      <th>11</th>\n",
              "      <td>Kidnapping Mr. Heineken</td>\n",
              "      <td>Movie</td>\n",
              "      <td>Daniel Alfredson</td>\n",
              "      <td>Jim Sturgess, Sam Worthington, Ryan Kwanten, A...</td>\n",
              "      <td>Netherlands, Belgium, United Kingdom, United S...</td>\n",
              "      <td>2017-09-08 00:00:00</td>\n",
              "      <td>2015</td>\n",
              "      <td>R</td>\n",
              "      <td>95 min</td>\n",
              "      <td>Action &amp; Adventure, Dramas, International Movies</td>\n",
              "      <td>When beer magnate Alfred \"Freddy\" Heineken is ...</td>\n",
              "    </tr>\n",
              "    <tr>\n",
              "      <th>12</th>\n",
              "      <td>Krish Trish and Baltiboy</td>\n",
              "      <td>Movie</td>\n",
              "      <td></td>\n",
              "      <td>Damandeep Singh Baggan, Smita Malhotra, Baba S...</td>\n",
              "      <td></td>\n",
              "      <td>2017-09-08 00:00:00</td>\n",
              "      <td>2009</td>\n",
              "      <td>TV-Y7</td>\n",
              "      <td>58 min</td>\n",
              "      <td>Children &amp; Family Movies</td>\n",
              "      <td>A team of minstrels, including a monkey, cat a...</td>\n",
              "    </tr>\n",
              "    <tr>\n",
              "      <th>13</th>\n",
              "      <td>Krish Trish and Baltiboy: Battle of Wits</td>\n",
              "      <td>Movie</td>\n",
              "      <td>Munjal Shroff, Tilak Shetty</td>\n",
              "      <td>Damandeep Singh Baggan, Smita Malhotra, Baba S...</td>\n",
              "      <td></td>\n",
              "      <td>2017-09-08 00:00:00</td>\n",
              "      <td>2013</td>\n",
              "      <td>TV-Y7</td>\n",
              "      <td>62 min</td>\n",
              "      <td>Children &amp; Family Movies</td>\n",
              "      <td>An artisan is cheated of his payment, a lion o...</td>\n",
              "    </tr>\n",
              "    <tr>\n",
              "      <th>14</th>\n",
              "      <td>Krish Trish and Baltiboy: Best Friends Forever</td>\n",
              "      <td>Movie</td>\n",
              "      <td>Munjal Shroff, Tilak Shetty</td>\n",
              "      <td>Damandeep Singh Baggan, Smita Malhotra, Deepak...</td>\n",
              "      <td></td>\n",
              "      <td>2017-09-08 00:00:00</td>\n",
              "      <td>2016</td>\n",
              "      <td>TV-Y</td>\n",
              "      <td>65 min</td>\n",
              "      <td>Children &amp; Family Movies</td>\n",
              "      <td>A cat, monkey and donkey team up to narrate fo...</td>\n",
              "    </tr>\n",
              "    <tr>\n",
              "      <th>15</th>\n",
              "      <td>Krish Trish and Baltiboy: Comics of India</td>\n",
              "      <td>Movie</td>\n",
              "      <td>Tilak Shetty</td>\n",
              "      <td>Damandeep Singh Baggan, Smita Malhotra, Baba S...</td>\n",
              "      <td></td>\n",
              "      <td>2017-09-08 00:00:00</td>\n",
              "      <td>2012</td>\n",
              "      <td>TV-Y7</td>\n",
              "      <td>61 min</td>\n",
              "      <td>Children &amp; Family Movies</td>\n",
              "      <td>In three comic-strip-style tales, a boy tries ...</td>\n",
              "    </tr>\n",
              "    <tr>\n",
              "      <th>16</th>\n",
              "      <td>Krish Trish and Baltiboy: Oversmartness Never ...</td>\n",
              "      <td>Movie</td>\n",
              "      <td>Tilak Shetty</td>\n",
              "      <td>Rishi Gambhir, Smita Malhotra, Deepak Chachra</td>\n",
              "      <td></td>\n",
              "      <td>2017-09-08 00:00:00</td>\n",
              "      <td>2017</td>\n",
              "      <td>TV-Y7</td>\n",
              "      <td>65 min</td>\n",
              "      <td>Children &amp; Family Movies</td>\n",
              "      <td>A cat, monkey and donkey learn the consequence...</td>\n",
              "    </tr>\n",
              "    <tr>\n",
              "      <th>17</th>\n",
              "      <td>Krish Trish and Baltiboy: Part II</td>\n",
              "      <td>Movie</td>\n",
              "      <td></td>\n",
              "      <td>Damandeep Singh Baggan, Smita Malhotra, Baba S...</td>\n",
              "      <td></td>\n",
              "      <td>2017-09-08 00:00:00</td>\n",
              "      <td>2010</td>\n",
              "      <td>TV-Y7</td>\n",
              "      <td>58 min</td>\n",
              "      <td>Children &amp; Family Movies</td>\n",
              "      <td>Animal minstrels narrate stories about a monke...</td>\n",
              "    </tr>\n",
              "    <tr>\n",
              "      <th>18</th>\n",
              "      <td>Krish Trish and Baltiboy: The Greatest Trick</td>\n",
              "      <td>Movie</td>\n",
              "      <td>Munjal Shroff, Tilak Shetty</td>\n",
              "      <td>Damandeep Singh Baggan, Smita Malhotra, Baba S...</td>\n",
              "      <td></td>\n",
              "      <td>2017-09-08 00:00:00</td>\n",
              "      <td>2013</td>\n",
              "      <td>TV-Y7</td>\n",
              "      <td>60 min</td>\n",
              "      <td>Children &amp; Family Movies</td>\n",
              "      <td>The consequences of trickery are explored in s...</td>\n",
              "    </tr>\n",
              "    <tr>\n",
              "      <th>19</th>\n",
              "      <td>Love</td>\n",
              "      <td>Movie</td>\n",
              "      <td>Gaspar NoÃ©</td>\n",
              "      <td>Karl Glusman, Klara Kristin, Aomi Muyock, Ugo ...</td>\n",
              "      <td>France, Belgium</td>\n",
              "      <td>2017-09-08 00:00:00</td>\n",
              "      <td>2015</td>\n",
              "      <td>NR</td>\n",
              "      <td>135 min</td>\n",
              "      <td>Cult Movies, Dramas, Independent Movies</td>\n",
              "      <td>A man in an unsatisfying marriage recalls the ...</td>\n",
              "    </tr>\n",
              "  </tbody>\n",
              "</table>\n",
              "</div>"
            ],
            "text/plain": [
              "                                                title  ...                                        description\n",
              "0             Norm of the North: King Sized Adventure  ...  Before planning an awesome wedding for his gra...\n",
              "1                          Jandino: Whatever it Takes  ...  Jandino Asporaat riffs on the challenges of ra...\n",
              "2                                  Transformers Prime  ...  With the help of three human allies, the Autob...\n",
              "3                    Transformers: Robots in Disguise  ...  When a prison ship crash unleashes hundreds of...\n",
              "4                                        #realityhigh  ...  When nerdy high schooler Dani finally attracts...\n",
              "5                                             Apaches  ...  A young journalist is forced into a life of cr...\n",
              "6                                            Automata  ...  In a dystopian future, an insurance adjuster f...\n",
              "7                  Fabrizio Copano: Solo pienso en mi  ...  Fabrizio Copano takes audience participation t...\n",
              "8                                        Fire Chasers  ...  As California's 2016 fire season rages, brave ...\n",
              "9                                         Good People  ...  A struggling couple can't believe their luck w...\n",
              "10                      JoaquÃ­n Reyes: Una y no mÃ¡s  ...  Comedian and celebrity impersonator JoaquÃ­n R...\n",
              "11                            Kidnapping Mr. Heineken  ...  When beer magnate Alfred \"Freddy\" Heineken is ...\n",
              "12                           Krish Trish and Baltiboy  ...  A team of minstrels, including a monkey, cat a...\n",
              "13           Krish Trish and Baltiboy: Battle of Wits  ...  An artisan is cheated of his payment, a lion o...\n",
              "14     Krish Trish and Baltiboy: Best Friends Forever  ...  A cat, monkey and donkey team up to narrate fo...\n",
              "15          Krish Trish and Baltiboy: Comics of India  ...  In three comic-strip-style tales, a boy tries ...\n",
              "16  Krish Trish and Baltiboy: Oversmartness Never ...  ...  A cat, monkey and donkey learn the consequence...\n",
              "17                  Krish Trish and Baltiboy: Part II  ...  Animal minstrels narrate stories about a monke...\n",
              "18       Krish Trish and Baltiboy: The Greatest Trick  ...  The consequences of trickery are explored in s...\n",
              "19                                               Love  ...  A man in an unsatisfying marriage recalls the ...\n",
              "\n",
              "[20 rows x 11 columns]"
            ]
          },
          "metadata": {
            "tags": []
          },
          "execution_count": 8
        }
      ]
    },
    {
      "cell_type": "code",
      "metadata": {
        "id": "hSH0HhcbNHFT"
      },
      "source": [
        "#NLP가 적용될 수 있도록 데이터를 문자열 형식으로 변환\n",
        "df['release_year'] = df['release_year'].astype(str)\n",
        "df['duration'] = df['duration'].astype(str)\n",
        "df['date_added'] = df['date_added'].astype(str)"
      ],
      "execution_count": null,
      "outputs": []
    },
    {
      "cell_type": "markdown",
      "metadata": {
        "id": "f5M83mm3NMID"
      },
      "source": [
        "**CASE 1**\n",
        "\n",
        "사례 1 {모든 CLUMNS- TITLE, TYPE, DIRECTOR, CAST, COUNTRY, DATE_ADDED, RELEASE_YEAR, RATING, DURATION, LISTED_IN, DESCRIPTION}"
      ]
    },
    {
      "cell_type": "code",
      "metadata": {
        "id": "NY03iMo1NVJA"
      },
      "source": [
        "#모든 열에서 공백으로 구분 된 문자열을 추가하여 새 열 만들기\n",
        "df[\"model1\"] = df[\"type\"] +\" \"+ df[\"director\"]+\" \"+ df[\"cast\"]+\" \"+ df[\"country\"]+\" \"+ df[\"release_year\"]+\" \"+ df[\"rating\"]+\" \"+ df[\"duration\"]+\" \"+ df[\"listed_in\"]+\" \"+ df[\"description\"]"
      ],
      "execution_count": null,
      "outputs": []
    },
    {
      "cell_type": "code",
      "metadata": {
        "colab": {
          "base_uri": "https://localhost:8080/",
          "height": 110
        },
        "id": "5NECyzG1NhZV",
        "outputId": "4f5b2697-081a-428e-f721-5e2b812c0e3c"
      },
      "source": [
        "#title 및 model1 열 가져 오기\n",
        "df=df.iloc[:,[0,11]]\n",
        "df.head(2)"
      ],
      "execution_count": null,
      "outputs": [
        {
          "output_type": "execute_result",
          "data": {
            "text/html": [
              "<div>\n",
              "<style scoped>\n",
              "    .dataframe tbody tr th:only-of-type {\n",
              "        vertical-align: middle;\n",
              "    }\n",
              "\n",
              "    .dataframe tbody tr th {\n",
              "        vertical-align: top;\n",
              "    }\n",
              "\n",
              "    .dataframe thead th {\n",
              "        text-align: right;\n",
              "    }\n",
              "</style>\n",
              "<table border=\"1\" class=\"dataframe\">\n",
              "  <thead>\n",
              "    <tr style=\"text-align: right;\">\n",
              "      <th></th>\n",
              "      <th>title</th>\n",
              "      <th>model1</th>\n",
              "    </tr>\n",
              "  </thead>\n",
              "  <tbody>\n",
              "    <tr>\n",
              "      <th>0</th>\n",
              "      <td>Norm of the North: King Sized Adventure</td>\n",
              "      <td>Movie Richard Finn, Tim Maltby Alan Marriott, ...</td>\n",
              "    </tr>\n",
              "    <tr>\n",
              "      <th>1</th>\n",
              "      <td>Jandino: Whatever it Takes</td>\n",
              "      <td>Movie  Jandino Asporaat United Kingdom 2016 TV...</td>\n",
              "    </tr>\n",
              "  </tbody>\n",
              "</table>\n",
              "</div>"
            ],
            "text/plain": [
              "                                     title                                             model1\n",
              "0  Norm of the North: King Sized Adventure  Movie Richard Finn, Tim Maltby Alan Marriott, ...\n",
              "1               Jandino: Whatever it Takes  Movie  Jandino Asporaat United Kingdom 2016 TV..."
            ]
          },
          "metadata": {
            "tags": []
          },
          "execution_count": 9
        }
      ]
    },
    {
      "cell_type": "code",
      "metadata": {
        "id": "xjdvkd-XNmBA"
      },
      "source": [
        "#NLP\n",
        "#sklearn lib에서. 모듈 및 가져온 클래스\n",
        "# 우리는 문장을 가져다가 벡터로 변환하여 그것을 찾아서 추론 할 수 있습니다.\n",
        "# 반복되는 단어\n",
        "#tfidf는 문장에서 문서 매트릭스를 만드는 데 도움이되는 기술입니다.\n",
        "\n",
        "\n",
        "from sklearn.feature_extraction.text import TfidfVectorizer\n",
        "\n",
        "#ngram_range 1-3은 우리가 3 개의 다른 단어의 조합을 취하고있는 것처럼 영어 단어를 중단한다는 것을 의미합니다.\n",
        "# (1, 1)의 ngram_range는 유니 그램만을 의미하고, (1, 2)는 유니 그램과 바이그램을 의미합니다.\n",
        "#and (2, 2)는 bigrams만을 의미합니다. 분석기를 호출 할 수없는 경우에만 적용됩니다.\n",
        "\n",
        "#max_features 매개 변수-None이 아니라면 말뭉치에서 용어 빈도로 정렬 된 상위 max_features 만 고려하는 어휘를 작성하십시오.\n",
        "# 어휘가 None이 아니면이 매개 변수는 무시됩니다.\n",
        "\n",
        "#min dif 어휘를 작성할 때 문서 빈도가 주어진 임계 값보다 엄격하게 낮은 용어를 무시합니다.\n",
        "#이 값은 문헌에서 컷오프라고도합니다. float 인 경우 매개 변수는 문서의 비율을 나타냅니다.\n",
        "#integer 절대 카운트. 어휘가 없음이 아닌 경우이 매개 변수는 무시됩니다.\n",
        "\n",
        "#strip_accents {‘ascii’,‘unicode’, None} (기본값 = None)\n",
        "# 전처리 단계에서 악센트를 제거하고 다른 문자 정규화를 수행합니다.\n",
        "#‘ascii’는 직접적인 ASCII 매핑이있는 문자에서만 작동하는 빠른 방법입니다.\n",
        "#‘unicode’는 모든 문자에서 작동하는 약간 느린 방법입니다. 없음 (기본값)은 아무것도하지 않습니다.\n",
        "\n",
        "\n",
        "#analyzerstr, {‘word’,‘char’,‘char_wb’} 또는 호출 가능\n",
        "# 기능이 단어 또는 문자 n- 그램으로 구성되어야하는지 여부.\n",
        "#Option‘char_wb’는 단어 경계 내의 텍스트에서만 문자 n-gram을 만듭니다. n-grams at\n",
        "# 단어의 가장자리는 공백으로 채워집니다.\n",
        "# 콜 러블이 전달되면 처리되지 않은 원시 입력에서 기능 시퀀스를 추출하는 데 사용됩니다.\n",
        "\n",
        "#token_patternstr\n",
        "# \"토큰\"을 구성하는 것을 나타내는 정규 표현식, 분석기 == '단어'인 경우에만 사용됩니다.\n",
        "# 기본 정규식은 2 개 이상의 영숫자로 구성된 토큰을 선택합니다 (구두점은 완전히\n",
        "# 무시되고 항상 토큰 구분자로 취급).\n",
        "\n",
        "\n",
        "tfv = TfidfVectorizer(min_df=3,  max_features=None, \n",
        "            strip_accents='unicode', analyzer='word',token_pattern=r'\\w{1,}',\n",
        "            ngram_range=(1, 3),\n",
        "            stop_words = 'english')\n",
        "\n",
        "#빈 문자열로 NaN 채우기\n",
        "df['model1'] = df['model1'].fillna('')"
      ],
      "execution_count": null,
      "outputs": []
    },
    {
      "cell_type": "code",
      "metadata": {
        "id": "6ZTpx5OEN_UC"
      },
      "source": [
        "# 새 행렬이 생성되고 모델이 여기에 맞춰지고 열도 명시됩니다.\n",
        "tfv_matrix = tfv.fit_transform(df['model1'])"
      ],
      "execution_count": null,
      "outputs": []
    },
    {
      "cell_type": "code",
      "metadata": {
        "colab": {
          "base_uri": "https://localhost:8080/"
        },
        "id": "yE9zp3D7OCl8",
        "outputId": "5613d9c5-ce3e-4df8-a5ba-fa5d4d820946"
      },
      "source": [
        "# 벡터가있는 행렬이 생성됩니다.\n",
        "tfv_matrix"
      ],
      "execution_count": null,
      "outputs": [
        {
          "output_type": "execute_result",
          "data": {
            "text/plain": [
              "<6234x26456 sparse matrix of type '<class 'numpy.float64'>'\n",
              "\twith 373561 stored elements in Compressed Sparse Row format>"
            ]
          },
          "metadata": {
            "tags": []
          },
          "execution_count": 21
        }
      ]
    },
    {
      "cell_type": "code",
      "metadata": {
        "id": "03xBKtIoOIOH"
      },
      "source": [
        "# 시그모이드 커널은 로지스틱 회귀에 사용됩니다.\n",
        "# 우리는 곡선 bw 0과 1을 얻으므로 출력을 0과 1로 변환합니다.\n",
        "\n",
        "from sklearn.metrics.pairwise import sigmoid_kernel\n",
        "sig = sigmoid_kernel(tfv_matrix, tfv_matrix)"
      ],
      "execution_count": null,
      "outputs": []
    },
    {
      "cell_type": "code",
      "metadata": {
        "colab": {
          "base_uri": "https://localhost:8080/"
        },
        "id": "7PGaVdnYOUn2",
        "outputId": "699560f7-83a2-4680-c07e-83600b690c1d"
      },
      "source": [
        "sig[0]"
      ],
      "execution_count": null,
      "outputs": [
        {
          "output_type": "execute_result",
          "data": {
            "text/plain": [
              "array([0.76161003, 0.76159424, 0.76159432, ..., 0.76159435, 0.76159442,\n",
              "       0.76159462])"
            ]
          },
          "metadata": {
            "tags": []
          },
          "execution_count": 17
        }
      ]
    },
    {
      "cell_type": "code",
      "metadata": {
        "id": "yQilBLZaOVqs"
      },
      "source": [
        "#제목 열이 인덱스로 설정되었습니다.\n",
        "indices = pd.Series(df.index, index=df['title']).drop_duplicates()"
      ],
      "execution_count": null,
      "outputs": []
    },
    {
      "cell_type": "code",
      "metadata": {
        "colab": {
          "base_uri": "https://localhost:8080/"
        },
        "id": "9bLr8q1jOb_r",
        "outputId": "b5866982-5a5f-4125-8cdf-1a35b67a4697"
      },
      "source": [
        "indices['Friends']"
      ],
      "execution_count": null,
      "outputs": [
        {
          "output_type": "execute_result",
          "data": {
            "text/plain": [
              "6233"
            ]
          },
          "metadata": {
            "tags": []
          },
          "execution_count": 19
        }
      ]
    },
    {
      "cell_type": "code",
      "metadata": {
        "colab": {
          "base_uri": "https://localhost:8080/"
        },
        "id": "n_LnxAyiOdTe",
        "outputId": "060fcfbc-100d-4695-edd0-6d571e99dcb1"
      },
      "source": [
        "#이것은 친구를 위한 벡터입니다\n",
        "sig[4799]"
      ],
      "execution_count": null,
      "outputs": [
        {
          "output_type": "execute_result",
          "data": {
            "text/plain": [
              "array([0.76159455, 0.76159478, 0.76159451, ..., 0.76159416, 0.76159515,\n",
              "       0.76159456])"
            ]
          },
          "metadata": {
            "tags": []
          },
          "execution_count": 15
        }
      ]
    },
    {
      "cell_type": "code",
      "metadata": {
        "id": "H_DglchlOiG0"
      },
      "source": [
        "def give_rec(title, sig=sig):\n",
        "    # original_title에 해당하는 인덱스 가져 오기\n",
        "    idx = indices[title]\n",
        "\n",
        "    # pairwsie 유사성 점수 얻기 \n",
        "    sig_scores = list(enumerate(sig[idx]))\n",
        "\n",
        "    # 영화 정렬 \n",
        "    sig_scores = sorted(sig_scores, key=lambda x: x[1], reverse=True)\n",
        "\n",
        "    # 가장 유사한 10편의 영화 점수\n",
        "    sig_scores = sig_scores[1:21]\n",
        "\n",
        "    # 영화 지수\n",
        "    movie_indices = [i[0] for i in sig_scores]\n",
        "\n",
        "    # 가장 유사한 영화 Top 10\n",
        "    return df['title'].iloc[movie_indices]"
      ],
      "execution_count": null,
      "outputs": []
    },
    {
      "cell_type": "code",
      "metadata": {
        "colab": {
          "base_uri": "https://localhost:8080/"
        },
        "id": "7MDuDOmXO69q",
        "outputId": "f31b5006-0e26-40c2-ce2a-46ef1acbee61"
      },
      "source": [
        "give_rec(k)"
      ],
      "execution_count": null,
      "outputs": [
        {
          "output_type": "execute_result",
          "data": {
            "text/plain": [
              "5056                      Boyka: Undisputed\n",
              "1759                      Only God Forgives\n",
              "2299    Dead in a Week (Or Your Money Back)\n",
              "4097                   The Art of the Steal\n",
              "4358                              Backtrack\n",
              "1151                   K-19: The Widowmaker\n",
              "1005                            Outlaw King\n",
              "3860                             The Prince\n",
              "1729                              Limitless\n",
              "5221                       American Odyssey\n",
              "2137                          The Salvation\n",
              "4377                         Jacob's Ladder\n",
              "2319                                  Tyson\n",
              "2036                              The Titan\n",
              "3606                        Black Hawk Down\n",
              "327                The Taking of Pelham 123\n",
              "2717                             Bobbi Jene\n",
              "4112                   Kickboxer: Vengeance\n",
              "3510                    Final Destination 2\n",
              "5298        Goosebumps 2: Haunted Halloween\n",
              "Name: title, dtype: object"
            ]
          },
          "metadata": {
            "tags": []
          },
          "execution_count": 25
        }
      ]
    },
    {
      "cell_type": "code",
      "metadata": {
        "id": "0f4F8_mdO92T"
      },
      "source": [
        "case1=list(give_rec(k))"
      ],
      "execution_count": null,
      "outputs": []
    },
    {
      "cell_type": "markdown",
      "metadata": {
        "id": "2hQwWr1nO_st"
      },
      "source": [
        "**출연진, 장르, 유형 (TV 프로그램 / 영화), 감독, 설명, 개봉 연도, 국가, 기간별 추천**"
      ]
    },
    {
      "cell_type": "code",
      "metadata": {
        "colab": {
          "base_uri": "https://localhost:8080/"
        },
        "id": "ciaHI1wXPDKF",
        "outputId": "348978c0-148f-43df-8f81-392011d45786"
      },
      "source": [
        "case1"
      ],
      "execution_count": null,
      "outputs": [
        {
          "output_type": "execute_result",
          "data": {
            "text/plain": [
              "['Boyka: Undisputed',\n",
              " 'Only God Forgives',\n",
              " 'Dead in a Week (Or Your Money Back)',\n",
              " 'The Art of the Steal',\n",
              " 'Backtrack',\n",
              " 'K-19: The Widowmaker',\n",
              " 'Outlaw King',\n",
              " 'The Prince',\n",
              " 'Limitless',\n",
              " 'American Odyssey',\n",
              " 'The Salvation',\n",
              " \"Jacob's Ladder\",\n",
              " 'Tyson',\n",
              " 'The Titan',\n",
              " 'Black Hawk Down',\n",
              " 'The Taking of Pelham 123',\n",
              " 'Bobbi Jene',\n",
              " 'Kickboxer: Vengeance',\n",
              " 'Final Destination 2',\n",
              " 'Goosebumps 2: Haunted Halloween']"
            ]
          },
          "metadata": {
            "tags": []
          },
          "execution_count": 28
        }
      ]
    },
    {
      "cell_type": "markdown",
      "metadata": {
        "id": "8j_llCTJPG5U"
      },
      "source": [
        "**CASE 2**\n",
        "\n",
        "LISTED IN, Type"
      ]
    },
    {
      "cell_type": "code",
      "metadata": {
        "colab": {
          "base_uri": "https://localhost:8080/",
          "height": 296
        },
        "id": "rQECbxAsPMCu",
        "outputId": "dad7ef0f-4053-4e10-8521-16b36b2b896f"
      },
      "source": [
        "df1.head(2)"
      ],
      "execution_count": null,
      "outputs": [
        {
          "output_type": "execute_result",
          "data": {
            "text/html": [
              "<div>\n",
              "<style scoped>\n",
              "    .dataframe tbody tr th:only-of-type {\n",
              "        vertical-align: middle;\n",
              "    }\n",
              "\n",
              "    .dataframe tbody tr th {\n",
              "        vertical-align: top;\n",
              "    }\n",
              "\n",
              "    .dataframe thead th {\n",
              "        text-align: right;\n",
              "    }\n",
              "</style>\n",
              "<table border=\"1\" class=\"dataframe\">\n",
              "  <thead>\n",
              "    <tr style=\"text-align: right;\">\n",
              "      <th></th>\n",
              "      <th>title</th>\n",
              "      <th>type</th>\n",
              "      <th>director</th>\n",
              "      <th>cast</th>\n",
              "      <th>country</th>\n",
              "      <th>date_added</th>\n",
              "      <th>release_year</th>\n",
              "      <th>rating</th>\n",
              "      <th>duration</th>\n",
              "      <th>listed_in</th>\n",
              "      <th>description</th>\n",
              "    </tr>\n",
              "  </thead>\n",
              "  <tbody>\n",
              "    <tr>\n",
              "      <th>0</th>\n",
              "      <td>Norm of the North: King Sized Adventure</td>\n",
              "      <td>Movie</td>\n",
              "      <td>Richard Finn, Tim Maltby</td>\n",
              "      <td>Alan Marriott, Andrew Toth, Brian Dobson, Cole...</td>\n",
              "      <td>United States, India, South Korea, China</td>\n",
              "      <td>2019-09-09 00:00:00</td>\n",
              "      <td>2019</td>\n",
              "      <td>TV-PG</td>\n",
              "      <td>90 min</td>\n",
              "      <td>Children &amp; Family Movies, Comedies</td>\n",
              "      <td>Before planning an awesome wedding for his gra...</td>\n",
              "    </tr>\n",
              "    <tr>\n",
              "      <th>1</th>\n",
              "      <td>Jandino: Whatever it Takes</td>\n",
              "      <td>Movie</td>\n",
              "      <td>NaN</td>\n",
              "      <td>Jandino Asporaat</td>\n",
              "      <td>United Kingdom</td>\n",
              "      <td>2016-09-09 00:00:00</td>\n",
              "      <td>2016</td>\n",
              "      <td>TV-MA</td>\n",
              "      <td>94 min</td>\n",
              "      <td>Stand-Up Comedy</td>\n",
              "      <td>Jandino Asporaat riffs on the challenges of ra...</td>\n",
              "    </tr>\n",
              "  </tbody>\n",
              "</table>\n",
              "</div>"
            ],
            "text/plain": [
              "                                     title  ...                                        description\n",
              "0  Norm of the North: King Sized Adventure  ...  Before planning an awesome wedding for his gra...\n",
              "1               Jandino: Whatever it Takes  ...  Jandino Asporaat riffs on the challenges of ra...\n",
              "\n",
              "[2 rows x 11 columns]"
            ]
          },
          "metadata": {
            "tags": []
          },
          "execution_count": 25
        }
      ]
    },
    {
      "cell_type": "code",
      "metadata": {
        "id": "W7T5OoTEPPbs"
      },
      "source": [
        "df1 = df1.replace(np.nan, '', regex=True)\n",
        "df1['release_year'] = df1['release_year'].astype(str)\n",
        "df1['duration'] = df1['duration'].astype(str)\n",
        "df1['date_added'] = df1['date_added'].astype(str)"
      ],
      "execution_count": null,
      "outputs": []
    },
    {
      "cell_type": "code",
      "metadata": {
        "id": "lK2jRvxXPQmp"
      },
      "source": [
        "df1[\"model1\"] = df1[\"type\"]+\" \"+ df1[\"listed_in\"]"
      ],
      "execution_count": null,
      "outputs": []
    },
    {
      "cell_type": "code",
      "metadata": {
        "colab": {
          "base_uri": "https://localhost:8080/",
          "height": 202
        },
        "id": "MT3-YJGSPRY3",
        "outputId": "4f8f3086-f438-4490-9d01-029ffd0962d3"
      },
      "source": [
        "df1=df1.iloc[:,[0,11]]\n",
        "df.head()"
      ],
      "execution_count": null,
      "outputs": [
        {
          "output_type": "execute_result",
          "data": {
            "text/html": [
              "<div>\n",
              "<style scoped>\n",
              "    .dataframe tbody tr th:only-of-type {\n",
              "        vertical-align: middle;\n",
              "    }\n",
              "\n",
              "    .dataframe tbody tr th {\n",
              "        vertical-align: top;\n",
              "    }\n",
              "\n",
              "    .dataframe thead th {\n",
              "        text-align: right;\n",
              "    }\n",
              "</style>\n",
              "<table border=\"1\" class=\"dataframe\">\n",
              "  <thead>\n",
              "    <tr style=\"text-align: right;\">\n",
              "      <th></th>\n",
              "      <th>title</th>\n",
              "      <th>model1</th>\n",
              "    </tr>\n",
              "  </thead>\n",
              "  <tbody>\n",
              "    <tr>\n",
              "      <th>0</th>\n",
              "      <td>Norm of the North: King Sized Adventure</td>\n",
              "      <td>Movie Richard Finn, Tim Maltby Alan Marriott, ...</td>\n",
              "    </tr>\n",
              "    <tr>\n",
              "      <th>1</th>\n",
              "      <td>Jandino: Whatever it Takes</td>\n",
              "      <td>Movie  Jandino Asporaat United Kingdom 2016 TV...</td>\n",
              "    </tr>\n",
              "    <tr>\n",
              "      <th>2</th>\n",
              "      <td>Transformers Prime</td>\n",
              "      <td>TV Show  Peter Cullen, Sumalee Montano, Frank ...</td>\n",
              "    </tr>\n",
              "    <tr>\n",
              "      <th>3</th>\n",
              "      <td>Transformers: Robots in Disguise</td>\n",
              "      <td>TV Show  Will Friedle, Darren Criss, Constance...</td>\n",
              "    </tr>\n",
              "    <tr>\n",
              "      <th>4</th>\n",
              "      <td>#realityhigh</td>\n",
              "      <td>Movie Fernando Lebrija Nesta Cooper, Kate Wals...</td>\n",
              "    </tr>\n",
              "  </tbody>\n",
              "</table>\n",
              "</div>"
            ],
            "text/plain": [
              "                                     title                                             model1\n",
              "0  Norm of the North: King Sized Adventure  Movie Richard Finn, Tim Maltby Alan Marriott, ...\n",
              "1               Jandino: Whatever it Takes  Movie  Jandino Asporaat United Kingdom 2016 TV...\n",
              "2                       Transformers Prime  TV Show  Peter Cullen, Sumalee Montano, Frank ...\n",
              "3         Transformers: Robots in Disguise  TV Show  Will Friedle, Darren Criss, Constance...\n",
              "4                             #realityhigh  Movie Fernando Lebrija Nesta Cooper, Kate Wals..."
            ]
          },
          "metadata": {
            "tags": []
          },
          "execution_count": 28
        }
      ]
    },
    {
      "cell_type": "code",
      "metadata": {
        "id": "NVQrj6SaPYoE"
      },
      "source": [
        "from sklearn.feature_extraction.text import TfidfVectorizer\n",
        "\n",
        "\n",
        "tfv = TfidfVectorizer(min_df=3,  max_features=None, \n",
        "            strip_accents='unicode', analyzer='word',token_pattern=r'\\w{1,}',\n",
        "            ngram_range=(1, 3),\n",
        "            stop_words = 'english')\n",
        "\n",
        "# 빈 문자열로 NaN 채우기\n",
        "df1['model1'] = df1['model1'].fillna('')"
      ],
      "execution_count": null,
      "outputs": []
    },
    {
      "cell_type": "code",
      "metadata": {
        "id": "BL0FRc9ePfXJ"
      },
      "source": [
        "tfv_matrix = tfv.fit_transform(df1['model1'])"
      ],
      "execution_count": null,
      "outputs": []
    },
    {
      "cell_type": "code",
      "metadata": {
        "id": "q193rbN0PgU7"
      },
      "source": [
        "from sklearn.metrics.pairwise import sigmoid_kernel\n",
        "sig = sigmoid_kernel(tfv_matrix, tfv_matrix)"
      ],
      "execution_count": null,
      "outputs": []
    },
    {
      "cell_type": "code",
      "metadata": {
        "id": "MQjhKTmmPiUK"
      },
      "source": [
        "indices = pd.Series(df1.index, index=df1['title']).drop_duplicates()"
      ],
      "execution_count": null,
      "outputs": []
    },
    {
      "cell_type": "code",
      "metadata": {
        "id": "2No3AbMyPjYb"
      },
      "source": [
        "def give_rec(title, sig=sig):\n",
        "    # Get the index corresponding to original_title\n",
        "    idx = indices[title]\n",
        "\n",
        "    # Get the pairwsie similarity scores \n",
        "    sig_scores = list(enumerate(sig[idx]))\n",
        "\n",
        "    # Sort the movies \n",
        "    sig_scores = sorted(sig_scores, key=lambda x: x[1], reverse=True)\n",
        "\n",
        "    # Scores of the 10 most similar movies\n",
        "    sig_scores = sig_scores[1:21]\n",
        "\n",
        "    # Movie indices\n",
        "    movie_indices = [i[0] for i in sig_scores]\n",
        "\n",
        "    # Top 10 most similar movies\n",
        "    return df1['title'].iloc[movie_indices]"
      ],
      "execution_count": null,
      "outputs": []
    },
    {
      "cell_type": "code",
      "metadata": {
        "colab": {
          "base_uri": "https://localhost:8080/"
        },
        "id": "YXKVjEksPm0h",
        "outputId": "3e945f9c-c833-4e71-fad6-2f38fd4e185e"
      },
      "source": [
        "give_rec(k)"
      ],
      "execution_count": null,
      "outputs": [
        {
          "output_type": "execute_result",
          "data": {
            "text/plain": [
              "5980                 The Andy Griffith Show\n",
              "5987                               Episodes\n",
              "6225                                Frasier\n",
              "6233                                Friends\n",
              "6094                    Pee-wee's Playhouse\n",
              "5981    The Twilight Zone (Original Series)\n",
              "5636                       The Walking Dead\n",
              "6166                                Jericho\n",
              "5787                           Supernatural\n",
              "6072                    From Dusk Till Dawn\n",
              "5585                                  Haven\n",
              "1827                    Roswell, New Mexico\n",
              "5704                              Star Trek\n",
              "5705                  Star Trek: Enterprise\n",
              "5982                             Twin Peaks\n",
              "5639                        Toast of London\n",
              "5699                             Still Game\n",
              "5830                             Dad's Army\n",
              "3390                   La Rosa de Guadalupe\n",
              "5843                      Trailer Park Boys\n",
              "Name: title, dtype: object"
            ]
          },
          "metadata": {
            "tags": []
          },
          "execution_count": 34
        }
      ]
    },
    {
      "cell_type": "code",
      "metadata": {
        "id": "DcKUKxYYPoyP"
      },
      "source": [
        "case2=list(give_rec(k))"
      ],
      "execution_count": null,
      "outputs": []
    },
    {
      "cell_type": "markdown",
      "metadata": {
        "id": "iTJOjN55Ppsd"
      },
      "source": [
        "**장르, 유형별 추천 (TV 프로그램 / 영화)**"
      ]
    },
    {
      "cell_type": "code",
      "metadata": {
        "colab": {
          "base_uri": "https://localhost:8080/"
        },
        "id": "4vi4O5HFPr93",
        "outputId": "f2e91c1f-b633-447f-e633-ab8c22e2956e"
      },
      "source": [
        "case2"
      ],
      "execution_count": null,
      "outputs": [
        {
          "output_type": "execute_result",
          "data": {
            "text/plain": [
              "['The Andy Griffith Show',\n",
              " 'Episodes',\n",
              " 'Frasier',\n",
              " 'Friends',\n",
              " \"Pee-wee's Playhouse\",\n",
              " 'The Twilight Zone (Original Series)',\n",
              " 'The Walking Dead',\n",
              " 'Jericho',\n",
              " 'Supernatural',\n",
              " 'From Dusk Till Dawn',\n",
              " 'Haven',\n",
              " 'Roswell, New Mexico',\n",
              " 'Star Trek',\n",
              " 'Star Trek: Enterprise',\n",
              " 'Twin Peaks',\n",
              " 'Toast of London',\n",
              " 'Still Game',\n",
              " \"Dad's Army\",\n",
              " 'La Rosa de Guadalupe',\n",
              " 'Trailer Park Boys']"
            ]
          },
          "metadata": {
            "tags": []
          },
          "execution_count": 36
        }
      ]
    },
    {
      "cell_type": "markdown",
      "metadata": {
        "id": "nLZnO2mChrrG"
      },
      "source": [
        "#CASE8\n",
        "\n",
        "Listed-in, description"
      ]
    },
    {
      "cell_type": "code",
      "metadata": {
        "colab": {
          "base_uri": "https://localhost:8080/",
          "height": 110
        },
        "id": "bStX4RXRhwDa",
        "outputId": "021cb739-b5f6-4d9d-ec13-e5b2780ce5b1"
      },
      "source": [
        "df7 = df7.replace(np.nan, '', regex=True)\n",
        "df7['release_year'] = df7['release_year'].astype(str)\n",
        "df7['duration'] = df7['duration'].astype(str)\n",
        "df7['date_added'] = df7['date_added'].astype(str)\n",
        "df7['model1'] = df7['description']+\" \"+df7['listed_in']\n",
        "df7=df7.iloc[:,[0,11]]\n",
        "df7.head(2)"
      ],
      "execution_count": null,
      "outputs": [
        {
          "output_type": "execute_result",
          "data": {
            "text/html": [
              "<div>\n",
              "<style scoped>\n",
              "    .dataframe tbody tr th:only-of-type {\n",
              "        vertical-align: middle;\n",
              "    }\n",
              "\n",
              "    .dataframe tbody tr th {\n",
              "        vertical-align: top;\n",
              "    }\n",
              "\n",
              "    .dataframe thead th {\n",
              "        text-align: right;\n",
              "    }\n",
              "</style>\n",
              "<table border=\"1\" class=\"dataframe\">\n",
              "  <thead>\n",
              "    <tr style=\"text-align: right;\">\n",
              "      <th></th>\n",
              "      <th>title</th>\n",
              "      <th>model1</th>\n",
              "    </tr>\n",
              "  </thead>\n",
              "  <tbody>\n",
              "    <tr>\n",
              "      <th>0</th>\n",
              "      <td>Norm of the North: King Sized Adventure</td>\n",
              "      <td>Before planning an awesome wedding for his gra...</td>\n",
              "    </tr>\n",
              "    <tr>\n",
              "      <th>1</th>\n",
              "      <td>Jandino: Whatever it Takes</td>\n",
              "      <td>Jandino Asporaat riffs on the challenges of ra...</td>\n",
              "    </tr>\n",
              "  </tbody>\n",
              "</table>\n",
              "</div>"
            ],
            "text/plain": [
              "                                     title                                             model1\n",
              "0  Norm of the North: King Sized Adventure  Before planning an awesome wedding for his gra...\n",
              "1               Jandino: Whatever it Takes  Jandino Asporaat riffs on the challenges of ra..."
            ]
          },
          "metadata": {
            "tags": []
          },
          "execution_count": 45
        }
      ]
    },
    {
      "cell_type": "code",
      "metadata": {
        "id": "3QOFwaQbiVVC"
      },
      "source": [
        "from sklearn.feature_extraction.text import TfidfVectorizer\n",
        "\n",
        "tfv = TfidfVectorizer(min_df=3, max_features=None,\n",
        "                     strip_accents='unicode', analyzer='word', token_pattern=r'\\w{1,}',\n",
        "                     ngram_range=(1,3),\n",
        "                     stop_words='english')\n",
        "\n",
        "# NaNs를 빈 문자열로 채우기\n",
        "df7['model1'] = df7['model1'].fillna('')"
      ],
      "execution_count": null,
      "outputs": []
    },
    {
      "cell_type": "code",
      "metadata": {
        "id": "0aCm8q8NjRyq"
      },
      "source": [
        "tfv_matrix = tfv.fit_transform(df7['model1'])"
      ],
      "execution_count": null,
      "outputs": []
    },
    {
      "cell_type": "code",
      "metadata": {
        "id": "yJXgb51DkRFH"
      },
      "source": [
        "from sklearn.metrics.pairwise import sigmoid_kernel\n",
        "sig = sigmoid_kernel(tfv_matrix, tfv_matrix)\n",
        "\n",
        "indices = pd.Series(df7.index, index=df7['title']).drop_duplicates()"
      ],
      "execution_count": null,
      "outputs": []
    },
    {
      "cell_type": "code",
      "metadata": {
        "id": "Wrc00hjGkkIc"
      },
      "source": [
        "def give_rec(title, sig=sig):\n",
        "  # 오리지널 타이틀과 같은 인덱스 찾기\n",
        "  idx = indices[title]\n",
        "\n",
        "  # 쌍별 유사성 점수 얻기\n",
        "  sig_scores = list(enumerate(sig[idx]))\n",
        "\n",
        "  # 영화 정렬\n",
        "  sig_scores = sorted(sig_scores, key=lambda x: x[1], reverse=True)\n",
        "\n",
        "  # 가장 비슷한 10개 영화의 점수\n",
        "  sig_scores = sig_scores[1:21]\n",
        "\n",
        "  # 영화 제목\n",
        "  movie_indices = [i[0] for i in sig_scores]\n",
        "\n",
        "  # 가장 비슷한 영화 Top 10\n",
        "  return df7['title'].iloc[movie_indices]"
      ],
      "execution_count": null,
      "outputs": []
    },
    {
      "cell_type": "code",
      "metadata": {
        "colab": {
          "base_uri": "https://localhost:8080/"
        },
        "id": "SogAqZXClqJE",
        "outputId": "c1842242-98f2-43d1-da8e-21c27d7060c7"
      },
      "source": [
        "give_rec(k)"
      ],
      "execution_count": null,
      "outputs": [
        {
          "output_type": "execute_result",
          "data": {
            "text/plain": [
              "4502            Luck by Chance\n",
              "900                      Pizza\n",
              "4042            Velvet Buzzsaw\n",
              "4334                    Pusher\n",
              "3914               Blood Money\n",
              "4451                Soundtrack\n",
              "5447                  Band Aid\n",
              "2853               Dark Places\n",
              "3317         Where's the Money\n",
              "3560                    Sliver\n",
              "2465              Step Outside\n",
              "4028            Ninja Assassin\n",
              "4183                     Bhoot\n",
              "451               Private Life\n",
              "4910                    Emelie\n",
              "172     I Am Not Madame Bovary\n",
              "1249                     Drive\n",
              "4190                   Dhamaal\n",
              "1173            Eye for an Eye\n",
              "38         Kill Me If You Dare\n",
              "Name: title, dtype: object"
            ]
          },
          "metadata": {
            "tags": []
          },
          "execution_count": 52
        }
      ]
    }
  ]
}