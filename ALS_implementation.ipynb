{
  "nbformat": 4,
  "nbformat_minor": 0,
  "metadata": {
    "colab": {
      "name": "ALS_implementation.ipynb",
      "provenance": [],
      "collapsed_sections": [],
      "authorship_tag": "ABX9TyOiQzCV0UkyCq+jV0wNsU7d",
      "include_colab_link": true
    },
    "kernelspec": {
      "name": "python3",
      "display_name": "Python 3"
    },
    "language_info": {
      "name": "python"
    }
  },
  "cells": [
    {
      "cell_type": "markdown",
      "metadata": {
        "id": "view-in-github",
        "colab_type": "text"
      },
      "source": [
        "<a href=\"https://colab.research.google.com/github/DeokwonWang/Content_Recommend_algorithm/blob/main/ALS_implementation.ipynb\" target=\"_parent\"><img src=\"https://colab.research.google.com/assets/colab-badge.svg\" alt=\"Open In Colab\"/></a>"
      ]
    },
    {
      "cell_type": "markdown",
      "metadata": {
        "id": "hPi5NIMdy2Bw"
      },
      "source": [
        "#1. 학습 파라미터 초기화\n",
        "\n",
        "*   정규화에 필요한 lambda\n",
        "*   confidenc level 조정에 필요한 alpha\n",
        "*   사용자와 아이템의 Latent Factor행렬의 차원 nf"
      ]
    },
    {
      "cell_type": "code",
      "metadata": {
        "id": "X29_WzgZyOqa"
      },
      "source": [
        "r_lambda = 40\n",
        "nf = 200\n",
        "alpha = 40"
      ],
      "execution_count": 1,
      "outputs": []
    },
    {
      "cell_type": "markdown",
      "metadata": {
        "id": "MK5Lwu2bzUnb"
      },
      "source": [
        "#2. 학습용 평점 데이터 설정\n",
        "\n",
        "*   임의의 10*11평점 행렬 생성(numpy)\n",
        "*   사용자수 = 10 / 아이템 수 = 11"
      ]
    },
    {
      "cell_type": "code",
      "metadata": {
        "colab": {
          "base_uri": "https://localhost:8080/"
        },
        "id": "5wSO1F76y4Nh",
        "outputId": "8f99b88e-dfe5-4975-c78e-729e6c255d78"
      },
      "source": [
        "import numpy as np\n",
        "\n",
        "# sample rating matrix\n",
        "R = np.array([[0,0,0,4,4,0,0,0,0,0,0],\n",
        "              [0,0,0,0,0,0,0,0,0,0,1],\n",
        "              [0,0,0,0,0,0,0,1,0,4,0],\n",
        "              [0,3,4,0,3,0,0,2,2,0,0],\n",
        "              [0,5,5,0,0,0,0,0,0,0,0],\n",
        "              [0,0,0,0,0,0,5,0,0,5,0],\n",
        "              [0,0,4,0,0,0,0,0,0,0,5],\n",
        "              [0,0,0,0,0,4,0,0,0,0,4],\n",
        "              [0,0,0,0,0,0,5,0,0,5,0],\n",
        "              [0,0,0,3,0,0,0,0,4,5,0]])\n",
        "print(R.shape)"
      ],
      "execution_count": 2,
      "outputs": [
        {
          "output_type": "stream",
          "text": [
            "(10, 11)\n"
          ],
          "name": "stdout"
        }
      ]
    },
    {
      "cell_type": "markdown",
      "metadata": {
        "id": "X_ok3luC1FGQ"
      },
      "source": [
        "#3. 사용자와 아이템의 Latent Factor Matrix를 초기화\n",
        "\n",
        "아주 작은 랜덤한 값들로 행렬의 값을 초기화"
      ]
    },
    {
      "cell_type": "code",
      "metadata": {
        "colab": {
          "base_uri": "https://localhost:8080/"
        },
        "id": "sJJjHYhn1RPl",
        "outputId": "2d286c8c-a89c-4328-b757-66282bf50225"
      },
      "source": [
        "nu = R.shape[0] # num of users\n",
        "ni = R.shape[1] # num of items\n",
        "\n",
        "# initialize X and Y with very small values\n",
        "X = np.random.rand(nu, nf) * 0.01\n",
        "Y = np.random.rand(ni, nf) * 0.01\n",
        "\n",
        "print(X)"
      ],
      "execution_count": 3,
      "outputs": [
        {
          "output_type": "stream",
          "text": [
            "[[0.0027857  0.0091066  0.00545501 ... 0.00991567 0.00188036 0.00756238]\n",
            " [0.00923195 0.00469537 0.00692004 ... 0.00253509 0.00753107 0.00155912]\n",
            " [0.00514351 0.00290268 0.00399059 ... 0.00100873 0.00414994 0.00558701]\n",
            " ...\n",
            " [0.00064852 0.00210796 0.0061438  ... 0.00263549 0.00835789 0.00542804]\n",
            " [0.00549811 0.00204291 0.0078949  ... 0.00097738 0.00052217 0.00551092]\n",
            " [0.00776883 0.00845971 0.00414592 ... 0.00642635 0.00814739 0.00260375]]\n"
          ],
          "name": "stdout"
        }
      ]
    },
    {
      "cell_type": "markdown",
      "metadata": {
        "id": "3qgUv3OK10oH"
      },
      "source": [
        "#4.선호도 행렬 P 설정\n",
        "주어진 학습용 평점 테이블을 0과 1로 된 binary rating matrix P로 바꾸어줍니다.\n",
        "\n",
        "P를 구하는 공식\n",
        "\n",
        "P가 0보다 크면 1\n",
        "P가 0이면 0\n",
        "\n",
        "\n",
        "실제 코드 구현"
      ]
    },
    {
      "cell_type": "code",
      "metadata": {
        "colab": {
          "base_uri": "https://localhost:8080/"
        },
        "id": "ZuhL8U811zrN",
        "outputId": "bdbcd200-781a-4d97-fce3-be458cf889b5"
      },
      "source": [
        "P = np.copy(R)\n",
        "P[P > 0] = 1\n",
        "print(P)"
      ],
      "execution_count": 5,
      "outputs": [
        {
          "output_type": "stream",
          "text": [
            "[[0 0 0 1 1 0 0 0 0 0 0]\n",
            " [0 0 0 0 0 0 0 0 0 0 1]\n",
            " [0 0 0 0 0 0 0 1 0 1 0]\n",
            " [0 1 1 0 1 0 0 1 1 0 0]\n",
            " [0 1 1 0 0 0 0 0 0 0 0]\n",
            " [0 0 0 0 0 0 1 0 0 1 0]\n",
            " [0 0 1 0 0 0 0 0 0 0 1]\n",
            " [0 0 0 0 0 1 0 0 0 0 1]\n",
            " [0 0 0 0 0 0 1 0 0 1 0]\n",
            " [0 0 0 1 0 0 0 0 1 1 0]]\n"
          ],
          "name": "stdout"
        }
      ]
    },
    {
      "cell_type": "markdown",
      "metadata": {
        "id": "LMTeOaVx2jLh"
      },
      "source": [
        "#5.신뢰도 행렬 C 설정\n",
        "주어진 학습용 평점 테이블에 Confidence level을 적용한 C행렬 구하기\n",
        "\n",
        "Confidence level을 구하는 공식\n",
        "\n",
        "Cui = 1 + alpha*Rui"
      ]
    },
    {
      "cell_type": "code",
      "metadata": {
        "colab": {
          "base_uri": "https://localhost:8080/"
        },
        "id": "SCUFHNLY2iyM",
        "outputId": "b3f79ef2-3352-47d8-c676-ec363b2bb73f"
      },
      "source": [
        "C = 1 + alpha * R\n",
        "print(C)"
      ],
      "execution_count": 7,
      "outputs": [
        {
          "output_type": "stream",
          "text": [
            "[[  1   1   1 161 161   1   1   1   1   1   1]\n",
            " [  1   1   1   1   1   1   1   1   1   1  41]\n",
            " [  1   1   1   1   1   1   1  41   1 161   1]\n",
            " [  1 121 161   1 121   1   1  81  81   1   1]\n",
            " [  1 201 201   1   1   1   1   1   1   1   1]\n",
            " [  1   1   1   1   1   1 201   1   1 201   1]\n",
            " [  1   1 161   1   1   1   1   1   1   1 201]\n",
            " [  1   1   1   1   1 161   1   1   1   1 161]\n",
            " [  1   1   1   1   1   1 201   1   1 201   1]\n",
            " [  1   1   1 121   1   1   1   1 161 201   1]]\n"
          ],
          "name": "stdout"
        }
      ]
    },
    {
      "cell_type": "markdown",
      "metadata": {
        "id": "oWs6b-tB3FQW"
      },
      "source": [
        "#6.Loss Function 설정\n",
        "\n",
        "예측이 얼마나 정확한지 측정할 Loss Function 작성\n",
        "\n",
        "크게 4가지 부분으로 나누어서 train시 변화 추이 살펴보기\n",
        "\n",
        "1. predict error : (pui-xTyi)^2 \n",
        " - 0과 1로 나누어 선호 비선호를 예측한 결과의 에러\n",
        "2. confidentce error : cui(pui-xTyi)^2\n",
        " - confidence level을 적용한 predict error\n",
        "3. regularization : lambda(sumX + sumY)\n",
        "4. total loss : confidence error + regularization"
      ]
    },
    {
      "cell_type": "code",
      "metadata": {
        "id": "dtdhMwgV3461"
      },
      "source": [
        "def loss_function(C, P, xTy, X, Y, r_lambda):\n",
        "  predict_error = np.square(P - xTy)\n",
        "  confidence_error = np.sum(C * predict_error)\n",
        "  regularization = r_lambda * (np.sum(np.square(X)) + np.sum(np.square(Y)))\n",
        "  total_loss = confidence_error + regularization\n",
        "  return np.sum(predict_error), confidence_error, regularization, total_loss"
      ],
      "execution_count": 8,
      "outputs": []
    },
    {
      "cell_type": "markdown",
      "metadata": {
        "id": "-gQwPWIF4jYS"
      },
      "source": [
        "#7.Optimizer 설정\n",
        "\n",
        "loss function을 최적화시키는 Optimizer 작성\n",
        "\n",
        "#이 부분이 핵심\n",
        "\n",
        "x[u] = (yTCuy + lambda*I)^-1yTCuy\n",
        "\n",
        "y[i] = (xTCix + lambda*I)^-1xTCix"
      ]
    },
    {
      "cell_type": "code",
      "metadata": {
        "id": "GvH400Y74tGS"
      },
      "source": [
        "def optimize_user(X, Y, C, P, nu, nf, r_lambda):\n",
        "  yT = np.transpose(Y)\n",
        "  for u in range(nu):\n",
        "    Cu = np.diag(C[u])\n",
        "    yT_Cu_y = np.matmul(np.matmul(yT,Cu),Y)\n",
        "    lI = np.dot(r_lambda, np.identity(nf))\n",
        "    yT_Cu_pu = np.matmul(np.matmul(yT, Cu), P[u])\n",
        "    X[u] = np.linalg.solve(yT_Cu_y + lI, yT_Cu_pu)\n",
        "\n",
        "def optimize_item(X, Y, C, P, nu, nf, r_lambda):\n",
        "  xT = np.transpose(X)\n",
        "  for i in range(ni):\n",
        "    Ci = np.diag(C[:, i])\n",
        "    xT_Ci_x = np.matmul(np.matmul(xT,Ci),X)\n",
        "    lI = np.dot(r_lambda, np.identity(nf))\n",
        "    xT_Ci_pi = np.matmul(np.matmul(xT, Ci), P[:, i])\n",
        "    Y[i] = np.linalg.solve(xT_Ci_x + lI, xT_Ci_pi)"
      ],
      "execution_count": 12,
      "outputs": []
    },
    {
      "cell_type": "markdown",
      "metadata": {
        "id": "Kag4TILR6bqP"
      },
      "source": [
        "#8.학습\n",
        "\n",
        "보통 10~15회\n",
        "\n",
        "각 스텝별 loss function 출력하도록 구현\n",
        "\n",
        "학습 완료 시 최종 선호도 0 or 1 예측 출력"
      ]
    },
    {
      "cell_type": "code",
      "metadata": {
        "colab": {
          "base_uri": "https://localhost:8080/"
        },
        "id": "AK--x2xc6pgh",
        "outputId": "2f2569b9-49e2-4ac8-c8c3-3af44d867c2c"
      },
      "source": [
        "predict_errors = []\n",
        "confidence_errors = []\n",
        "regularization_list = []\n",
        "total_losses = []\n",
        "\n",
        "for i in range(15):\n",
        "  if i !=0:\n",
        "    optimize_user(X, Y, C, P, nu, nf, r_lambda)\n",
        "    optimize_item(X, Y, C, P, ni, nf, r_lambda)\n",
        "  predict = np.matmul(X, np.transpose(Y))\n",
        "  predict_error, confidence_error, regularization, total_loss = loss_function(C, P, predict, X, Y, r_lambda)\n",
        "\n",
        "  predict_errors.append(predict_error)\n",
        "  confidence_errors.append(confidence_error)\n",
        "  regularization_list.append(regularization)\n",
        "  total_losses.append(total_loss)\n",
        "\n",
        "  print('--------------------------step %d--------------------------' % i)\n",
        "  print('predict_error: %f' % predict_error)\n",
        "  print('confidence_error: %f' % confidence_error)\n",
        "  print('regularization: %f' % regularization)\n",
        "  print('total loss: %f' % total_loss)\n",
        "\n",
        "predict = np.matmul(X, np.transpose(Y))\n",
        "print('final predict')\n",
        "print([predict])"
      ],
      "execution_count": 13,
      "outputs": [
        {
          "output_type": "stream",
          "text": [
            "--------------------------step 0--------------------------\n",
            "predict_error: 20.833529\n",
            "confidence_error: 3140.487414\n",
            "regularization: 178.829772\n",
            "total loss: 3319.317186\n",
            "--------------------------step 1--------------------------\n",
            "predict_error: 30.980891\n",
            "confidence_error: 300.375548\n",
            "regularization: 640.330138\n",
            "total loss: 940.705686\n",
            "--------------------------step 2--------------------------\n",
            "predict_error: 34.027482\n",
            "confidence_error: 139.200180\n",
            "regularization: 651.199625\n",
            "total loss: 790.399805\n",
            "--------------------------step 3--------------------------\n",
            "predict_error: 32.214462\n",
            "confidence_error: 120.302668\n",
            "regularization: 650.944306\n",
            "total loss: 771.246974\n",
            "--------------------------step 4--------------------------\n",
            "predict_error: 29.764042\n",
            "confidence_error: 109.693400\n",
            "regularization: 653.510752\n",
            "total loss: 763.204152\n",
            "--------------------------step 5--------------------------\n",
            "predict_error: 27.371869\n",
            "confidence_error: 102.705096\n",
            "regularization: 656.341627\n",
            "total loss: 759.046723\n",
            "--------------------------step 6--------------------------\n",
            "predict_error: 25.344101\n",
            "confidence_error: 97.923177\n",
            "regularization: 658.704500\n",
            "total loss: 756.627677\n",
            "--------------------------step 7--------------------------\n",
            "predict_error: 23.760516\n",
            "confidence_error: 94.650857\n",
            "regularization: 660.495382\n",
            "total loss: 755.146239\n",
            "--------------------------step 8--------------------------\n",
            "predict_error: 22.582290\n",
            "confidence_error: 92.428943\n",
            "regularization: 661.796539\n",
            "total loss: 754.225482\n",
            "--------------------------step 9--------------------------\n",
            "predict_error: 21.728805\n",
            "confidence_error: 90.928045\n",
            "regularization: 662.723850\n",
            "total loss: 753.651894\n",
            "--------------------------step 10--------------------------\n",
            "predict_error: 21.118737\n",
            "confidence_error: 89.914998\n",
            "regularization: 663.378973\n",
            "total loss: 753.293971\n",
            "--------------------------step 11--------------------------\n",
            "predict_error: 20.685188\n",
            "confidence_error: 89.229660\n",
            "regularization: 663.839722\n",
            "total loss: 753.069382\n",
            "--------------------------step 12--------------------------\n",
            "predict_error: 20.377811\n",
            "confidence_error: 88.764407\n",
            "regularization: 664.162565\n",
            "total loss: 752.926972\n",
            "--------------------------step 13--------------------------\n",
            "predict_error: 20.160226\n",
            "confidence_error: 88.447647\n",
            "regularization: 664.387651\n",
            "total loss: 752.835298\n",
            "--------------------------step 14--------------------------\n",
            "predict_error: 20.006595\n",
            "confidence_error: 88.231802\n",
            "regularization: 664.543365\n",
            "total loss: 752.775167\n",
            "final predict\n",
            "[array([[ 0.        ,  0.72049193,  0.6838899 ,  0.857577  ,  0.83816397,\n",
            "         0.10529311,  0.59678983,  0.68731855,  0.81203922,  0.82193116,\n",
            "         0.31798324],\n",
            "       [ 0.        ,  0.33870198,  0.42039097,  0.11044998,  0.16016724,\n",
            "         0.39303374, -0.0323992 ,  0.14884191,  0.13559176,  0.03117536,\n",
            "         0.48341474],\n",
            "       [ 0.        ,  0.46439416,  0.42911683,  0.63146757,  0.58730131,\n",
            "         0.02724347,  0.75290141,  0.56649975,  0.62753284,  0.86771151,\n",
            "         0.157007  ],\n",
            "       [ 0.        ,  0.92268547,  0.94202267,  0.89616732,  0.90824936,\n",
            "         0.36422278,  0.61353587,  0.77778087,  0.8788007 ,  0.86342439,\n",
            "         0.63022481],\n",
            "       [ 0.        ,  0.84980841,  0.92665759,  0.62456252,  0.68056234,\n",
            "         0.54004559,  0.26899419,  0.57506066,  0.62971503,  0.48235262,\n",
            "         0.7833814 ],\n",
            "       [ 0.        ,  0.29719387,  0.24248118,  0.54543534,  0.47491625,\n",
            "        -0.0939427 ,  0.8817228 ,  0.51365758,  0.55362385,  0.9389556 ,\n",
            "        -0.01611803],\n",
            "       [ 0.        ,  0.74568411,  0.87510621,  0.38051105,  0.46271981,\n",
            "         0.68973748,  0.06849862,  0.40774774,  0.41314281,  0.22954245,\n",
            "         0.89515409],\n",
            "       [ 0.        ,  0.57111551,  0.74301291,  0.10057304,  0.20070227,\n",
            "         0.7818482 , -0.12902073,  0.20440038,  0.15881752, -0.03697123,\n",
            "         0.92885081],\n",
            "       [ 0.        ,  0.29719387,  0.24248118,  0.54543534,  0.47491625,\n",
            "        -0.0939427 ,  0.8817228 ,  0.51365758,  0.55362385,  0.9389556 ,\n",
            "        -0.01611803],\n",
            "       [ 0.        ,  0.68702897,  0.64231228,  0.86936398,  0.83282972,\n",
            "         0.06634103,  0.76153792,  0.72313407,  0.8360571 ,  0.96351385,\n",
            "         0.26586436]])]\n"
          ],
          "name": "stdout"
        }
      ]
    }
  ]
}